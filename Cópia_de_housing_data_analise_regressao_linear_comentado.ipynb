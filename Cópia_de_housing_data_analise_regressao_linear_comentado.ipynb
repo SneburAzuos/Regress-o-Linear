{
  "cells": [
    {
      "cell_type": "markdown",
      "metadata": {
        "id": "view-in-github",
        "colab_type": "text"
      },
      "source": [
        "<a href=\"https://colab.research.google.com/github/SneburAzuos/Regress-o-Linear/blob/ipynb/C%C3%B3pia_de_housing_data_analise_regressao_linear_comentado.ipynb\" target=\"_parent\"><img src=\"https://colab.research.google.com/assets/colab-badge.svg\" alt=\"Open In Colab\"/></a>"
      ]
    },
    {
      "metadata": {
        "id": "RyGgjbjNj31S"
      },
      "cell_type": "markdown",
      "source": [
        "# Definição de Machine Learning\n",
        "O aprendizado de máquina é uma disciplina da inteligência artificial.\n",
        "\n",
        "O objetivo principal é criar sistemas capazes de aprender automaticamente, ou seja, eles podem encontrar padrões complexos em grandes conjuntos de dados por conta própria.\n",
        "\n",
        "# Tipos de algoritmos usados\n",
        "\n",
        "Os algoritmos de aprendizado de máquina são geralmente classificados em dois grupos:\n",
        "* **algoritmos supervisionados** que aplicam o que foi aprendido com dados históricos para tirar conclusões sobre novos dados.\n",
        "* **não supervisionados** podem extrair inferências de conjuntos de dados. \n",
        "\n",
        "Embora existam outros tipos como, por exemplo, aprendizado semi-supervisionado e aprendizado por reforço, os dois tipos acima compreendem a maioria das aplicações e também nosso foco de estudo neste curso.\n",
        "\n",
        "<img src='http://www.diegocalvo.es/wp-content/uploads/2018/09/machine-learning-classification.png' width='50%' />"
      ]
    },
    {
      "metadata": {
        "id": "bkE2R1Brj31h"
      },
      "cell_type": "markdown",
      "source": [
        "# CRISP-DM methodology\n",
        "<img src='https://www.kdnuggets.com/wp-content/uploads/crisp-dm-4-problems-fig1.png' width='40%' />"
      ]
    },
    {
      "metadata": {
        "_cell_guid": "be45f9e5-01b0-412f-8c06-de211b111c29",
        "_uuid": "fa3c2e8f727ea9d903497ff2e69615761a86b28e",
        "id": "vnC5QX0zj31i"
      },
      "cell_type": "markdown",
      "source": [
        "# California Housing - Regressão Linear"
      ]
    },
    {
      "metadata": {
        "id": "r_LFdyXRj31k"
      },
      "cell_type": "markdown",
      "source": [
        "# Regressão Linear\n",
        "Um dos modelos mais simples de aprendizado de máquina é a regressão linear. O modelo é utilizado quando existe uma relação linear entre os recursos (atributos) e a variável alvo, tudo o que precisamos encontrar é a equação da linha reta no espaço multidimensional.\n",
        "\n",
        "A aplicação mais simples da Regressão Linear ocorre quando temos apenas 2 variáveis (x,y) em uma relação linear. Por exemplo, no vetor 'dados' apresentado abaixo, temos dados de vendas de imóveis: tamanho do imóvel e preço. Nosso objetivo é estimar o preço do imóvel a partir do seu tamanho. Se descobrimos que esse é um problema linear, tudo o que precisamos é encontrar o coeficiente m e a interceptação b da equação da reta que melhor se ajusta aos dados, ou seja:   **Preco = (m * Area) + b  ( equação da reta  Y = mX + b )**\n",
        "\n",
        "Existem muitas maneiras de encontrar os coeficientes (m e b). Você pode utilizar o método dos **minímos quadrados** (MMQ) ou um dos métodos de otimização como gradiente descendente. Vamos utilizar o método dos **minímos quadrados** (MMQ):\n",
        "# Método dos Mínimos Quadrados\n",
        "<div><img src='http://astro.if.ufrgs.br/minq/min.gif' width='20%'>\n",
        "<img src='https://devarea.com/wp-content/uploads/2019/03/Screen-Shot-2019-03-26-at-11.18.01.png' width='20%'></div>"
      ]
    },
    {
      "cell_type": "markdown",
      "source": [
        "## California House Alterado csv: encurtador.com.br/ckN38"
      ],
      "metadata": {
        "id": "19FphOkPlpK_"
      }
    },
    {
      "cell_type": "markdown",
      "source": [
        "# Sobre o conjunto de dados\n",
        "# Contexto\n",
        "Este é o conjunto de dados usado no segundo capítulo do livro recente de Aurélien Géron 'Hands-On Machine learning with Scikit-Learn and TensorFlow'. Ele serve como uma excelente introdução à implementação de algoritmos de aprendizado de máquina porque requer limpeza de dados rudimentar, possui uma lista de variáveis facilmente compreensível e fica em um tamanho ideal entre ser muito fácil e muito complicado.\n",
        "\n",
        "Os dados contêm informações do censo da Califórnia de 1990. Portanto, embora possa não ajudá-lo a prever os preços atuais de imóveis, como o conjunto de dados Zillow Zestimate, ele fornece um conjunto de dados introdutório acessível para ensinar as pessoas sobre os fundamentos do aprendizado de máquina.\n",
        "\n",
        "Os dados pertencem às casas encontradas em um determinado distrito da Califórnia e algumas estatísticas resumidas sobre elas com base nos dados do censo de 1990. Esteja avisado de que os dados não são limpos, portanto, são necessárias algumas etapas de pré-processamento! As colunas são as seguintes, seus nomes são bastante auto-explicativos:\n",
        "\n",
        "1. longitude: Uma medida de quão longe uma casa está a oeste; um valor mais alto está mais a oeste\n",
        "\n",
        "2. latitude: Uma medida de quão ao norte uma casa está; um valor mais alto está mais ao norte\n",
        "\n",
        "3. HabitaçãoMedianAge: Idade mediana de uma casa dentro de um quarteirão; um número mais baixo é um edifício mais novo\n",
        "\n",
        "4. totalRooms: número total de quartos em um bloco\n",
        "\n",
        "5. totalBedrooms: número total de quartos dentro de um quarteirão\n",
        "\n",
        "6. população: número total de pessoas que residem dentro de um quarteirão\n",
        "\n",
        "7. domicílios: número total de domicílios, um grupo de pessoas que residem dentro de uma unidade domiciliar, por um quarteirão\n",
        "\n",
        "8. MedianIncome: Renda mediana para famílias dentro de um quarteirão de casas (medida em dezenas de milhares de dólares americanos)\n",
        "\n",
        "9. medianHouseValue: valor médio da casa para famílias dentro de um quarteirão (medido em dólares americanos)\n",
        "\n",
        "10. oceanProximity: Localização da casa w.r.t oceano/mar"
      ],
      "metadata": {
        "id": "y-nqWgo6V9qI"
      }
    },
    {
      "cell_type": "code",
      "source": [
        "from google.colab import drive\n",
        "drive.mount('/content/drive')"
      ],
      "metadata": {
        "id": "JH3l6ldRkVEk",
        "colab": {
          "base_uri": "https://localhost:8080/"
        },
        "outputId": "b48db034-c9be-43ab-8a24-8f52b3033620"
      },
      "execution_count": 47,
      "outputs": [
        {
          "output_type": "stream",
          "name": "stdout",
          "text": [
            "Drive already mounted at /content/drive; to attempt to forcibly remount, call drive.mount(\"/content/drive\", force_remount=True).\n"
          ]
        }
      ]
    },
    {
      "metadata": {
        "_cell_guid": "b1076dfc-b9ad-4769-8c92-a6c4dae69d19",
        "_uuid": "8f2839f25d086af736a60e9eeb907d3b93b6e0e5",
        "trusted": true,
        "id": "dSHKxztsj31n"
      },
      "cell_type": "code",
      "source": [
        "#0 importar bibliotecas pandas, numpy, io\n",
        "import numpy as np # linear algebra\n",
        "import pandas as pd # data processing, CSV file I/O (e.g. pd.read_csv)\n",
        "import io"
      ],
      "execution_count": 6,
      "outputs": []
    },
    {
      "metadata": {
        "trusted": true,
        "id": "YezEVae7j31r"
      },
      "cell_type": "code",
      "source": [
        "#1 impotar o csv para um dataframe\n",
        "df = pd.read_csv(\"/content/drive/MyDrive/Colab Notebooks/housing_v1.csv\", sep=',', na_values=\"?\")"
      ],
      "execution_count": 7,
      "outputs": []
    },
    {
      "metadata": {
        "trusted": true,
        "colab": {
          "base_uri": "https://localhost:8080/"
        },
        "id": "0CvpT6d_j31t",
        "outputId": "c003c0c0-8659-43df-ec2c-c4b251778142"
      },
      "cell_type": "code",
      "source": [
        "#2 verificar o número de linhas e colunas do dataframe\n",
        "df.shape"
      ],
      "execution_count": 8,
      "outputs": [
        {
          "output_type": "execute_result",
          "data": {
            "text/plain": [
              "(20648, 11)"
            ]
          },
          "metadata": {},
          "execution_count": 8
        }
      ]
    },
    {
      "metadata": {
        "_cell_guid": "0e8bff9e-ca64-4500-8283-a70c535058ed",
        "_uuid": "e40279e4a34fa1e1b0b1038b130a47afd2284fd8",
        "trusted": true,
        "id": "ZEXhKLHyj31v",
        "colab": {
          "base_uri": "https://localhost:8080/"
        },
        "outputId": "5e1d5c3f-9063-4895-ccc4-8ec616e37f01"
      },
      "cell_type": "code",
      "source": [
        "#3 Utilizar o método info() para visualizar as informações do dataframe\n",
        "df.info()"
      ],
      "execution_count": 9,
      "outputs": [
        {
          "output_type": "stream",
          "name": "stdout",
          "text": [
            "<class 'pandas.core.frame.DataFrame'>\n",
            "RangeIndex: 20648 entries, 0 to 20647\n",
            "Data columns (total 11 columns):\n",
            " #   Column              Non-Null Count  Dtype  \n",
            "---  ------              --------------  -----  \n",
            " 0   id                  20648 non-null  int64  \n",
            " 1   longitude           20645 non-null  float64\n",
            " 2   latitude            20645 non-null  float64\n",
            " 3   housing_median_age  20645 non-null  float64\n",
            " 4   total_rooms         20645 non-null  float64\n",
            " 5   total_bedrooms      20438 non-null  float64\n",
            " 6   population          20645 non-null  float64\n",
            " 7   households          20645 non-null  float64\n",
            " 8   median_income       20645 non-null  float64\n",
            " 9   median_house_value  20645 non-null  float64\n",
            " 10  ocean_proximity     20645 non-null  object \n",
            "dtypes: float64(9), int64(1), object(1)\n",
            "memory usage: 1.7+ MB\n"
          ]
        }
      ]
    },
    {
      "metadata": {
        "trusted": true,
        "id": "hdrtnUEsj31x",
        "colab": {
          "base_uri": "https://localhost:8080/",
          "height": 270
        },
        "outputId": "4e51242e-9cd6-4889-d578-7e8f50248274"
      },
      "cell_type": "code",
      "source": [
        "#4 head()\n",
        "df.head()"
      ],
      "execution_count": 10,
      "outputs": [
        {
          "output_type": "execute_result",
          "data": {
            "text/plain": [
              "   id  longitude  latitude  housing_median_age  total_rooms  total_bedrooms  \\\n",
              "0   0    -122.23     37.88                41.0        880.0           129.0   \n",
              "1   1    -122.22     37.86                21.0       7099.0          1106.0   \n",
              "2   2    -122.24     37.85                52.0       1467.0           190.0   \n",
              "3   3    -122.25     37.85                52.0       1274.0           235.0   \n",
              "4   4    -122.25     37.85                52.0       1627.0           280.0   \n",
              "\n",
              "   population  households  median_income  median_house_value ocean_proximity  \n",
              "0       322.0       126.0         8.3252            452600.0        NEAR BAY  \n",
              "1      2401.0      1138.0         8.3014            358500.0        NEAR BAY  \n",
              "2       496.0       177.0         7.2574            352100.0        NEAR BAY  \n",
              "3       558.0       219.0         5.6431            341300.0        NEAR BAY  \n",
              "4       565.0       259.0         3.8462            342200.0        NEAR BAY  "
            ],
            "text/html": [
              "\n",
              "  <div id=\"df-2edfaab6-fb04-4c3e-bbe4-bf09e90bfdf2\">\n",
              "    <div class=\"colab-df-container\">\n",
              "      <div>\n",
              "<style scoped>\n",
              "    .dataframe tbody tr th:only-of-type {\n",
              "        vertical-align: middle;\n",
              "    }\n",
              "\n",
              "    .dataframe tbody tr th {\n",
              "        vertical-align: top;\n",
              "    }\n",
              "\n",
              "    .dataframe thead th {\n",
              "        text-align: right;\n",
              "    }\n",
              "</style>\n",
              "<table border=\"1\" class=\"dataframe\">\n",
              "  <thead>\n",
              "    <tr style=\"text-align: right;\">\n",
              "      <th></th>\n",
              "      <th>id</th>\n",
              "      <th>longitude</th>\n",
              "      <th>latitude</th>\n",
              "      <th>housing_median_age</th>\n",
              "      <th>total_rooms</th>\n",
              "      <th>total_bedrooms</th>\n",
              "      <th>population</th>\n",
              "      <th>households</th>\n",
              "      <th>median_income</th>\n",
              "      <th>median_house_value</th>\n",
              "      <th>ocean_proximity</th>\n",
              "    </tr>\n",
              "  </thead>\n",
              "  <tbody>\n",
              "    <tr>\n",
              "      <th>0</th>\n",
              "      <td>0</td>\n",
              "      <td>-122.23</td>\n",
              "      <td>37.88</td>\n",
              "      <td>41.0</td>\n",
              "      <td>880.0</td>\n",
              "      <td>129.0</td>\n",
              "      <td>322.0</td>\n",
              "      <td>126.0</td>\n",
              "      <td>8.3252</td>\n",
              "      <td>452600.0</td>\n",
              "      <td>NEAR BAY</td>\n",
              "    </tr>\n",
              "    <tr>\n",
              "      <th>1</th>\n",
              "      <td>1</td>\n",
              "      <td>-122.22</td>\n",
              "      <td>37.86</td>\n",
              "      <td>21.0</td>\n",
              "      <td>7099.0</td>\n",
              "      <td>1106.0</td>\n",
              "      <td>2401.0</td>\n",
              "      <td>1138.0</td>\n",
              "      <td>8.3014</td>\n",
              "      <td>358500.0</td>\n",
              "      <td>NEAR BAY</td>\n",
              "    </tr>\n",
              "    <tr>\n",
              "      <th>2</th>\n",
              "      <td>2</td>\n",
              "      <td>-122.24</td>\n",
              "      <td>37.85</td>\n",
              "      <td>52.0</td>\n",
              "      <td>1467.0</td>\n",
              "      <td>190.0</td>\n",
              "      <td>496.0</td>\n",
              "      <td>177.0</td>\n",
              "      <td>7.2574</td>\n",
              "      <td>352100.0</td>\n",
              "      <td>NEAR BAY</td>\n",
              "    </tr>\n",
              "    <tr>\n",
              "      <th>3</th>\n",
              "      <td>3</td>\n",
              "      <td>-122.25</td>\n",
              "      <td>37.85</td>\n",
              "      <td>52.0</td>\n",
              "      <td>1274.0</td>\n",
              "      <td>235.0</td>\n",
              "      <td>558.0</td>\n",
              "      <td>219.0</td>\n",
              "      <td>5.6431</td>\n",
              "      <td>341300.0</td>\n",
              "      <td>NEAR BAY</td>\n",
              "    </tr>\n",
              "    <tr>\n",
              "      <th>4</th>\n",
              "      <td>4</td>\n",
              "      <td>-122.25</td>\n",
              "      <td>37.85</td>\n",
              "      <td>52.0</td>\n",
              "      <td>1627.0</td>\n",
              "      <td>280.0</td>\n",
              "      <td>565.0</td>\n",
              "      <td>259.0</td>\n",
              "      <td>3.8462</td>\n",
              "      <td>342200.0</td>\n",
              "      <td>NEAR BAY</td>\n",
              "    </tr>\n",
              "  </tbody>\n",
              "</table>\n",
              "</div>\n",
              "      <button class=\"colab-df-convert\" onclick=\"convertToInteractive('df-2edfaab6-fb04-4c3e-bbe4-bf09e90bfdf2')\"\n",
              "              title=\"Convert this dataframe to an interactive table.\"\n",
              "              style=\"display:none;\">\n",
              "        \n",
              "  <svg xmlns=\"http://www.w3.org/2000/svg\" height=\"24px\"viewBox=\"0 0 24 24\"\n",
              "       width=\"24px\">\n",
              "    <path d=\"M0 0h24v24H0V0z\" fill=\"none\"/>\n",
              "    <path d=\"M18.56 5.44l.94 2.06.94-2.06 2.06-.94-2.06-.94-.94-2.06-.94 2.06-2.06.94zm-11 1L8.5 8.5l.94-2.06 2.06-.94-2.06-.94L8.5 2.5l-.94 2.06-2.06.94zm10 10l.94 2.06.94-2.06 2.06-.94-2.06-.94-.94-2.06-.94 2.06-2.06.94z\"/><path d=\"M17.41 7.96l-1.37-1.37c-.4-.4-.92-.59-1.43-.59-.52 0-1.04.2-1.43.59L10.3 9.45l-7.72 7.72c-.78.78-.78 2.05 0 2.83L4 21.41c.39.39.9.59 1.41.59.51 0 1.02-.2 1.41-.59l7.78-7.78 2.81-2.81c.8-.78.8-2.07 0-2.86zM5.41 20L4 18.59l7.72-7.72 1.47 1.35L5.41 20z\"/>\n",
              "  </svg>\n",
              "      </button>\n",
              "      \n",
              "  <style>\n",
              "    .colab-df-container {\n",
              "      display:flex;\n",
              "      flex-wrap:wrap;\n",
              "      gap: 12px;\n",
              "    }\n",
              "\n",
              "    .colab-df-convert {\n",
              "      background-color: #E8F0FE;\n",
              "      border: none;\n",
              "      border-radius: 50%;\n",
              "      cursor: pointer;\n",
              "      display: none;\n",
              "      fill: #1967D2;\n",
              "      height: 32px;\n",
              "      padding: 0 0 0 0;\n",
              "      width: 32px;\n",
              "    }\n",
              "\n",
              "    .colab-df-convert:hover {\n",
              "      background-color: #E2EBFA;\n",
              "      box-shadow: 0px 1px 2px rgba(60, 64, 67, 0.3), 0px 1px 3px 1px rgba(60, 64, 67, 0.15);\n",
              "      fill: #174EA6;\n",
              "    }\n",
              "\n",
              "    [theme=dark] .colab-df-convert {\n",
              "      background-color: #3B4455;\n",
              "      fill: #D2E3FC;\n",
              "    }\n",
              "\n",
              "    [theme=dark] .colab-df-convert:hover {\n",
              "      background-color: #434B5C;\n",
              "      box-shadow: 0px 1px 3px 1px rgba(0, 0, 0, 0.15);\n",
              "      filter: drop-shadow(0px 1px 2px rgba(0, 0, 0, 0.3));\n",
              "      fill: #FFFFFF;\n",
              "    }\n",
              "  </style>\n",
              "\n",
              "      <script>\n",
              "        const buttonEl =\n",
              "          document.querySelector('#df-2edfaab6-fb04-4c3e-bbe4-bf09e90bfdf2 button.colab-df-convert');\n",
              "        buttonEl.style.display =\n",
              "          google.colab.kernel.accessAllowed ? 'block' : 'none';\n",
              "\n",
              "        async function convertToInteractive(key) {\n",
              "          const element = document.querySelector('#df-2edfaab6-fb04-4c3e-bbe4-bf09e90bfdf2');\n",
              "          const dataTable =\n",
              "            await google.colab.kernel.invokeFunction('convertToInteractive',\n",
              "                                                     [key], {});\n",
              "          if (!dataTable) return;\n",
              "\n",
              "          const docLinkHtml = 'Like what you see? Visit the ' +\n",
              "            '<a target=\"_blank\" href=https://colab.research.google.com/notebooks/data_table.ipynb>data table notebook</a>'\n",
              "            + ' to learn more about interactive tables.';\n",
              "          element.innerHTML = '';\n",
              "          dataTable['output_type'] = 'display_data';\n",
              "          await google.colab.output.renderOutput(dataTable, element);\n",
              "          const docLink = document.createElement('div');\n",
              "          docLink.innerHTML = docLinkHtml;\n",
              "          element.appendChild(docLink);\n",
              "        }\n",
              "      </script>\n",
              "    </div>\n",
              "  </div>\n",
              "  "
            ]
          },
          "metadata": {},
          "execution_count": 10
        }
      ]
    },
    {
      "metadata": {
        "trusted": true,
        "id": "4kQurBBej31y"
      },
      "cell_type": "code",
      "source": [
        "#5 apagar a coluna id\n",
        "df = df.drop(['id'],axis=1)"
      ],
      "execution_count": 11,
      "outputs": []
    },
    {
      "metadata": {
        "_cell_guid": "5d8f9ffc-cef0-4f14-ab43-69cc0cb016db",
        "_uuid": "3e9f38ce7c9986edb6fc6b44478c12b50efd7dd7",
        "trusted": true,
        "id": "QVPPkRV0j31z",
        "colab": {
          "base_uri": "https://localhost:8080/"
        },
        "outputId": "2ffe5610-75c2-4480-b414-7943de87400e"
      },
      "cell_type": "code",
      "source": [
        "#6 visualizar os campos com valores faltantes\n",
        "df.isna().sum()"
      ],
      "execution_count": 12,
      "outputs": [
        {
          "output_type": "execute_result",
          "data": {
            "text/plain": [
              "longitude               3\n",
              "latitude                3\n",
              "housing_median_age      3\n",
              "total_rooms             3\n",
              "total_bedrooms        210\n",
              "population              3\n",
              "households              3\n",
              "median_income           3\n",
              "median_house_value      3\n",
              "ocean_proximity         3\n",
              "dtype: int64"
            ]
          },
          "metadata": {},
          "execution_count": 12
        }
      ]
    },
    {
      "metadata": {
        "_cell_guid": "e613137a-8fd6-4f78-a351-6d2345069555",
        "_uuid": "8135192490125d54e98c02ca34f3383bb889fefc",
        "trusted": true,
        "id": "8ZiD4HmWj310"
      },
      "cell_type": "code",
      "source": [
        "#7 apagar linhas duplicadas\n",
        "df = df.drop_duplicates()"
      ],
      "execution_count": 13,
      "outputs": []
    },
    {
      "metadata": {
        "trusted": true,
        "colab": {
          "base_uri": "https://localhost:8080/"
        },
        "id": "rAAW8lVyj311",
        "outputId": "a93235ad-bf35-4f03-df28-067ff9fad0e5"
      },
      "cell_type": "code",
      "source": [
        "#8 número de linhas e colunas\n",
        "df.shape"
      ],
      "execution_count": 14,
      "outputs": [
        {
          "output_type": "execute_result",
          "data": {
            "text/plain": [
              "(20641, 10)"
            ]
          },
          "metadata": {},
          "execution_count": 14
        }
      ]
    },
    {
      "metadata": {
        "trusted": true,
        "id": "iFTcNebBj313",
        "colab": {
          "base_uri": "https://localhost:8080/"
        },
        "outputId": "3c8b6f55-f7e6-44e9-fe13-ec9be291b590"
      },
      "cell_type": "code",
      "source": [
        "#9 visualizar os campos com valores faltantes\n",
        "df.isna().sum()"
      ],
      "execution_count": 15,
      "outputs": [
        {
          "output_type": "execute_result",
          "data": {
            "text/plain": [
              "longitude               1\n",
              "latitude                1\n",
              "housing_median_age      1\n",
              "total_rooms             1\n",
              "total_bedrooms        208\n",
              "population              1\n",
              "households              1\n",
              "median_income           1\n",
              "median_house_value      1\n",
              "ocean_proximity         1\n",
              "dtype: int64"
            ]
          },
          "metadata": {},
          "execution_count": 15
        }
      ]
    },
    {
      "metadata": {
        "trusted": true,
        "id": "uMWj0YOkj314"
      },
      "cell_type": "code",
      "source": [
        "#10 apagar linhas com todos os campos em branco\n",
        "df = df.dropna(how='all', axis=0)"
      ],
      "execution_count": 16,
      "outputs": []
    },
    {
      "metadata": {
        "_cell_guid": "76444760-d557-4692-a388-d8439d7e1d34",
        "_uuid": "3a8e030249cde00147cf0713746324bfca90777c",
        "trusted": true,
        "colab": {
          "base_uri": "https://localhost:8080/"
        },
        "id": "QjgAtUpcj314",
        "outputId": "66db67f9-f84a-431a-ffd9-0502a682a74e"
      },
      "cell_type": "code",
      "source": [
        "#11 ver número de linhas e colunas\n",
        "df.shape"
      ],
      "execution_count": 17,
      "outputs": [
        {
          "output_type": "execute_result",
          "data": {
            "text/plain": [
              "(20640, 10)"
            ]
          },
          "metadata": {},
          "execution_count": 17
        }
      ]
    },
    {
      "metadata": {
        "trusted": true,
        "id": "U-mbIkTij315",
        "colab": {
          "base_uri": "https://localhost:8080/"
        },
        "outputId": "da61ec02-27ed-413d-b9b1-a695118a7a46"
      },
      "cell_type": "code",
      "source": [
        "#12 ver número de campos vazios nos atributos\n",
        "df.isna().sum()"
      ],
      "execution_count": 18,
      "outputs": [
        {
          "output_type": "execute_result",
          "data": {
            "text/plain": [
              "longitude               0\n",
              "latitude                0\n",
              "housing_median_age      0\n",
              "total_rooms             0\n",
              "total_bedrooms        207\n",
              "population              0\n",
              "households              0\n",
              "median_income           0\n",
              "median_house_value      0\n",
              "ocean_proximity         0\n",
              "dtype: int64"
            ]
          },
          "metadata": {},
          "execution_count": 18
        }
      ]
    },
    {
      "metadata": {
        "trusted": true,
        "id": "Wg91mtY3j316"
      },
      "cell_type": "code",
      "source": [
        "#13 preencher os campos vazios da coluna 'total_bedrooms' com o valor médio\n",
        "df['total_bedrooms'].fillna(df['total_bedrooms'].mean(), inplace=True)"
      ],
      "execution_count": 19,
      "outputs": []
    },
    {
      "metadata": {
        "trusted": true,
        "id": "rgOczSxVj316",
        "colab": {
          "base_uri": "https://localhost:8080/"
        },
        "outputId": "847e05ec-63b3-47de-8734-50528a8e54ad"
      },
      "cell_type": "code",
      "source": [
        "#14 contar o número de campos faltantes\n",
        "df.isna().sum()\n"
      ],
      "execution_count": 20,
      "outputs": [
        {
          "output_type": "execute_result",
          "data": {
            "text/plain": [
              "longitude             0\n",
              "latitude              0\n",
              "housing_median_age    0\n",
              "total_rooms           0\n",
              "total_bedrooms        0\n",
              "population            0\n",
              "households            0\n",
              "median_income         0\n",
              "median_house_value    0\n",
              "ocean_proximity       0\n",
              "dtype: int64"
            ]
          },
          "metadata": {},
          "execution_count": 20
        }
      ]
    },
    {
      "metadata": {
        "_cell_guid": "5cc78281-d7c7-4160-8250-cc565721b77e",
        "_uuid": "8b648e8068904a44e6e1d934ca54d93bf5a210cb",
        "trusted": true,
        "id": "PLQBdek1j317",
        "colab": {
          "base_uri": "https://localhost:8080/",
          "height": 270
        },
        "outputId": "30412be0-1362-4733-ee28-813cb2935c17"
      },
      "cell_type": "code",
      "source": [
        "#15 head()\n",
        "df.head()"
      ],
      "execution_count": 21,
      "outputs": [
        {
          "output_type": "execute_result",
          "data": {
            "text/plain": [
              "   longitude  latitude  housing_median_age  total_rooms  total_bedrooms  \\\n",
              "0    -122.23     37.88                41.0        880.0           129.0   \n",
              "1    -122.22     37.86                21.0       7099.0          1106.0   \n",
              "2    -122.24     37.85                52.0       1467.0           190.0   \n",
              "3    -122.25     37.85                52.0       1274.0           235.0   \n",
              "4    -122.25     37.85                52.0       1627.0           280.0   \n",
              "\n",
              "   population  households  median_income  median_house_value ocean_proximity  \n",
              "0       322.0       126.0         8.3252            452600.0        NEAR BAY  \n",
              "1      2401.0      1138.0         8.3014            358500.0        NEAR BAY  \n",
              "2       496.0       177.0         7.2574            352100.0        NEAR BAY  \n",
              "3       558.0       219.0         5.6431            341300.0        NEAR BAY  \n",
              "4       565.0       259.0         3.8462            342200.0        NEAR BAY  "
            ],
            "text/html": [
              "\n",
              "  <div id=\"df-00229a97-6bc9-4687-bb44-0eb1c375a3be\">\n",
              "    <div class=\"colab-df-container\">\n",
              "      <div>\n",
              "<style scoped>\n",
              "    .dataframe tbody tr th:only-of-type {\n",
              "        vertical-align: middle;\n",
              "    }\n",
              "\n",
              "    .dataframe tbody tr th {\n",
              "        vertical-align: top;\n",
              "    }\n",
              "\n",
              "    .dataframe thead th {\n",
              "        text-align: right;\n",
              "    }\n",
              "</style>\n",
              "<table border=\"1\" class=\"dataframe\">\n",
              "  <thead>\n",
              "    <tr style=\"text-align: right;\">\n",
              "      <th></th>\n",
              "      <th>longitude</th>\n",
              "      <th>latitude</th>\n",
              "      <th>housing_median_age</th>\n",
              "      <th>total_rooms</th>\n",
              "      <th>total_bedrooms</th>\n",
              "      <th>population</th>\n",
              "      <th>households</th>\n",
              "      <th>median_income</th>\n",
              "      <th>median_house_value</th>\n",
              "      <th>ocean_proximity</th>\n",
              "    </tr>\n",
              "  </thead>\n",
              "  <tbody>\n",
              "    <tr>\n",
              "      <th>0</th>\n",
              "      <td>-122.23</td>\n",
              "      <td>37.88</td>\n",
              "      <td>41.0</td>\n",
              "      <td>880.0</td>\n",
              "      <td>129.0</td>\n",
              "      <td>322.0</td>\n",
              "      <td>126.0</td>\n",
              "      <td>8.3252</td>\n",
              "      <td>452600.0</td>\n",
              "      <td>NEAR BAY</td>\n",
              "    </tr>\n",
              "    <tr>\n",
              "      <th>1</th>\n",
              "      <td>-122.22</td>\n",
              "      <td>37.86</td>\n",
              "      <td>21.0</td>\n",
              "      <td>7099.0</td>\n",
              "      <td>1106.0</td>\n",
              "      <td>2401.0</td>\n",
              "      <td>1138.0</td>\n",
              "      <td>8.3014</td>\n",
              "      <td>358500.0</td>\n",
              "      <td>NEAR BAY</td>\n",
              "    </tr>\n",
              "    <tr>\n",
              "      <th>2</th>\n",
              "      <td>-122.24</td>\n",
              "      <td>37.85</td>\n",
              "      <td>52.0</td>\n",
              "      <td>1467.0</td>\n",
              "      <td>190.0</td>\n",
              "      <td>496.0</td>\n",
              "      <td>177.0</td>\n",
              "      <td>7.2574</td>\n",
              "      <td>352100.0</td>\n",
              "      <td>NEAR BAY</td>\n",
              "    </tr>\n",
              "    <tr>\n",
              "      <th>3</th>\n",
              "      <td>-122.25</td>\n",
              "      <td>37.85</td>\n",
              "      <td>52.0</td>\n",
              "      <td>1274.0</td>\n",
              "      <td>235.0</td>\n",
              "      <td>558.0</td>\n",
              "      <td>219.0</td>\n",
              "      <td>5.6431</td>\n",
              "      <td>341300.0</td>\n",
              "      <td>NEAR BAY</td>\n",
              "    </tr>\n",
              "    <tr>\n",
              "      <th>4</th>\n",
              "      <td>-122.25</td>\n",
              "      <td>37.85</td>\n",
              "      <td>52.0</td>\n",
              "      <td>1627.0</td>\n",
              "      <td>280.0</td>\n",
              "      <td>565.0</td>\n",
              "      <td>259.0</td>\n",
              "      <td>3.8462</td>\n",
              "      <td>342200.0</td>\n",
              "      <td>NEAR BAY</td>\n",
              "    </tr>\n",
              "  </tbody>\n",
              "</table>\n",
              "</div>\n",
              "      <button class=\"colab-df-convert\" onclick=\"convertToInteractive('df-00229a97-6bc9-4687-bb44-0eb1c375a3be')\"\n",
              "              title=\"Convert this dataframe to an interactive table.\"\n",
              "              style=\"display:none;\">\n",
              "        \n",
              "  <svg xmlns=\"http://www.w3.org/2000/svg\" height=\"24px\"viewBox=\"0 0 24 24\"\n",
              "       width=\"24px\">\n",
              "    <path d=\"M0 0h24v24H0V0z\" fill=\"none\"/>\n",
              "    <path d=\"M18.56 5.44l.94 2.06.94-2.06 2.06-.94-2.06-.94-.94-2.06-.94 2.06-2.06.94zm-11 1L8.5 8.5l.94-2.06 2.06-.94-2.06-.94L8.5 2.5l-.94 2.06-2.06.94zm10 10l.94 2.06.94-2.06 2.06-.94-2.06-.94-.94-2.06-.94 2.06-2.06.94z\"/><path d=\"M17.41 7.96l-1.37-1.37c-.4-.4-.92-.59-1.43-.59-.52 0-1.04.2-1.43.59L10.3 9.45l-7.72 7.72c-.78.78-.78 2.05 0 2.83L4 21.41c.39.39.9.59 1.41.59.51 0 1.02-.2 1.41-.59l7.78-7.78 2.81-2.81c.8-.78.8-2.07 0-2.86zM5.41 20L4 18.59l7.72-7.72 1.47 1.35L5.41 20z\"/>\n",
              "  </svg>\n",
              "      </button>\n",
              "      \n",
              "  <style>\n",
              "    .colab-df-container {\n",
              "      display:flex;\n",
              "      flex-wrap:wrap;\n",
              "      gap: 12px;\n",
              "    }\n",
              "\n",
              "    .colab-df-convert {\n",
              "      background-color: #E8F0FE;\n",
              "      border: none;\n",
              "      border-radius: 50%;\n",
              "      cursor: pointer;\n",
              "      display: none;\n",
              "      fill: #1967D2;\n",
              "      height: 32px;\n",
              "      padding: 0 0 0 0;\n",
              "      width: 32px;\n",
              "    }\n",
              "\n",
              "    .colab-df-convert:hover {\n",
              "      background-color: #E2EBFA;\n",
              "      box-shadow: 0px 1px 2px rgba(60, 64, 67, 0.3), 0px 1px 3px 1px rgba(60, 64, 67, 0.15);\n",
              "      fill: #174EA6;\n",
              "    }\n",
              "\n",
              "    [theme=dark] .colab-df-convert {\n",
              "      background-color: #3B4455;\n",
              "      fill: #D2E3FC;\n",
              "    }\n",
              "\n",
              "    [theme=dark] .colab-df-convert:hover {\n",
              "      background-color: #434B5C;\n",
              "      box-shadow: 0px 1px 3px 1px rgba(0, 0, 0, 0.15);\n",
              "      filter: drop-shadow(0px 1px 2px rgba(0, 0, 0, 0.3));\n",
              "      fill: #FFFFFF;\n",
              "    }\n",
              "  </style>\n",
              "\n",
              "      <script>\n",
              "        const buttonEl =\n",
              "          document.querySelector('#df-00229a97-6bc9-4687-bb44-0eb1c375a3be button.colab-df-convert');\n",
              "        buttonEl.style.display =\n",
              "          google.colab.kernel.accessAllowed ? 'block' : 'none';\n",
              "\n",
              "        async function convertToInteractive(key) {\n",
              "          const element = document.querySelector('#df-00229a97-6bc9-4687-bb44-0eb1c375a3be');\n",
              "          const dataTable =\n",
              "            await google.colab.kernel.invokeFunction('convertToInteractive',\n",
              "                                                     [key], {});\n",
              "          if (!dataTable) return;\n",
              "\n",
              "          const docLinkHtml = 'Like what you see? Visit the ' +\n",
              "            '<a target=\"_blank\" href=https://colab.research.google.com/notebooks/data_table.ipynb>data table notebook</a>'\n",
              "            + ' to learn more about interactive tables.';\n",
              "          element.innerHTML = '';\n",
              "          dataTable['output_type'] = 'display_data';\n",
              "          await google.colab.output.renderOutput(dataTable, element);\n",
              "          const docLink = document.createElement('div');\n",
              "          docLink.innerHTML = docLinkHtml;\n",
              "          element.appendChild(docLink);\n",
              "        }\n",
              "      </script>\n",
              "    </div>\n",
              "  </div>\n",
              "  "
            ]
          },
          "metadata": {},
          "execution_count": 21
        }
      ]
    },
    {
      "metadata": {
        "_cell_guid": "640234a3-b736-4546-a3a4-94dd24ca4a5a",
        "_uuid": "1aa7dec4e532cc635d88155bb7e8537cd7a8d4bc",
        "trusted": true,
        "colab": {
          "base_uri": "https://localhost:8080/"
        },
        "id": "rk6xt6rUj318",
        "outputId": "65980dbc-0d0f-494b-c0d1-92bcbd8d2260"
      },
      "cell_type": "code",
      "source": [
        "#16 shape()\n",
        "df.shape"
      ],
      "execution_count": 22,
      "outputs": [
        {
          "output_type": "execute_result",
          "data": {
            "text/plain": [
              "(20640, 10)"
            ]
          },
          "metadata": {},
          "execution_count": 22
        }
      ]
    },
    {
      "metadata": {
        "_cell_guid": "8217d7fa-bd5a-487c-b62d-23396cca50b4",
        "_uuid": "00460e8fa31d337e097245024eeda5599fc4de54",
        "trusted": true,
        "id": "QxbGFUuKj319",
        "colab": {
          "base_uri": "https://localhost:8080/",
          "height": 270
        },
        "outputId": "f6759e50-5468-4860-d252-eed077441c55"
      },
      "cell_type": "code",
      "source": [
        "#17 head\n",
        "df.head()"
      ],
      "execution_count": 23,
      "outputs": [
        {
          "output_type": "execute_result",
          "data": {
            "text/plain": [
              "   longitude  latitude  housing_median_age  total_rooms  total_bedrooms  \\\n",
              "0    -122.23     37.88                41.0        880.0           129.0   \n",
              "1    -122.22     37.86                21.0       7099.0          1106.0   \n",
              "2    -122.24     37.85                52.0       1467.0           190.0   \n",
              "3    -122.25     37.85                52.0       1274.0           235.0   \n",
              "4    -122.25     37.85                52.0       1627.0           280.0   \n",
              "\n",
              "   population  households  median_income  median_house_value ocean_proximity  \n",
              "0       322.0       126.0         8.3252            452600.0        NEAR BAY  \n",
              "1      2401.0      1138.0         8.3014            358500.0        NEAR BAY  \n",
              "2       496.0       177.0         7.2574            352100.0        NEAR BAY  \n",
              "3       558.0       219.0         5.6431            341300.0        NEAR BAY  \n",
              "4       565.0       259.0         3.8462            342200.0        NEAR BAY  "
            ],
            "text/html": [
              "\n",
              "  <div id=\"df-0a09d3f2-b881-4f6b-9c43-4295bf18207f\">\n",
              "    <div class=\"colab-df-container\">\n",
              "      <div>\n",
              "<style scoped>\n",
              "    .dataframe tbody tr th:only-of-type {\n",
              "        vertical-align: middle;\n",
              "    }\n",
              "\n",
              "    .dataframe tbody tr th {\n",
              "        vertical-align: top;\n",
              "    }\n",
              "\n",
              "    .dataframe thead th {\n",
              "        text-align: right;\n",
              "    }\n",
              "</style>\n",
              "<table border=\"1\" class=\"dataframe\">\n",
              "  <thead>\n",
              "    <tr style=\"text-align: right;\">\n",
              "      <th></th>\n",
              "      <th>longitude</th>\n",
              "      <th>latitude</th>\n",
              "      <th>housing_median_age</th>\n",
              "      <th>total_rooms</th>\n",
              "      <th>total_bedrooms</th>\n",
              "      <th>population</th>\n",
              "      <th>households</th>\n",
              "      <th>median_income</th>\n",
              "      <th>median_house_value</th>\n",
              "      <th>ocean_proximity</th>\n",
              "    </tr>\n",
              "  </thead>\n",
              "  <tbody>\n",
              "    <tr>\n",
              "      <th>0</th>\n",
              "      <td>-122.23</td>\n",
              "      <td>37.88</td>\n",
              "      <td>41.0</td>\n",
              "      <td>880.0</td>\n",
              "      <td>129.0</td>\n",
              "      <td>322.0</td>\n",
              "      <td>126.0</td>\n",
              "      <td>8.3252</td>\n",
              "      <td>452600.0</td>\n",
              "      <td>NEAR BAY</td>\n",
              "    </tr>\n",
              "    <tr>\n",
              "      <th>1</th>\n",
              "      <td>-122.22</td>\n",
              "      <td>37.86</td>\n",
              "      <td>21.0</td>\n",
              "      <td>7099.0</td>\n",
              "      <td>1106.0</td>\n",
              "      <td>2401.0</td>\n",
              "      <td>1138.0</td>\n",
              "      <td>8.3014</td>\n",
              "      <td>358500.0</td>\n",
              "      <td>NEAR BAY</td>\n",
              "    </tr>\n",
              "    <tr>\n",
              "      <th>2</th>\n",
              "      <td>-122.24</td>\n",
              "      <td>37.85</td>\n",
              "      <td>52.0</td>\n",
              "      <td>1467.0</td>\n",
              "      <td>190.0</td>\n",
              "      <td>496.0</td>\n",
              "      <td>177.0</td>\n",
              "      <td>7.2574</td>\n",
              "      <td>352100.0</td>\n",
              "      <td>NEAR BAY</td>\n",
              "    </tr>\n",
              "    <tr>\n",
              "      <th>3</th>\n",
              "      <td>-122.25</td>\n",
              "      <td>37.85</td>\n",
              "      <td>52.0</td>\n",
              "      <td>1274.0</td>\n",
              "      <td>235.0</td>\n",
              "      <td>558.0</td>\n",
              "      <td>219.0</td>\n",
              "      <td>5.6431</td>\n",
              "      <td>341300.0</td>\n",
              "      <td>NEAR BAY</td>\n",
              "    </tr>\n",
              "    <tr>\n",
              "      <th>4</th>\n",
              "      <td>-122.25</td>\n",
              "      <td>37.85</td>\n",
              "      <td>52.0</td>\n",
              "      <td>1627.0</td>\n",
              "      <td>280.0</td>\n",
              "      <td>565.0</td>\n",
              "      <td>259.0</td>\n",
              "      <td>3.8462</td>\n",
              "      <td>342200.0</td>\n",
              "      <td>NEAR BAY</td>\n",
              "    </tr>\n",
              "  </tbody>\n",
              "</table>\n",
              "</div>\n",
              "      <button class=\"colab-df-convert\" onclick=\"convertToInteractive('df-0a09d3f2-b881-4f6b-9c43-4295bf18207f')\"\n",
              "              title=\"Convert this dataframe to an interactive table.\"\n",
              "              style=\"display:none;\">\n",
              "        \n",
              "  <svg xmlns=\"http://www.w3.org/2000/svg\" height=\"24px\"viewBox=\"0 0 24 24\"\n",
              "       width=\"24px\">\n",
              "    <path d=\"M0 0h24v24H0V0z\" fill=\"none\"/>\n",
              "    <path d=\"M18.56 5.44l.94 2.06.94-2.06 2.06-.94-2.06-.94-.94-2.06-.94 2.06-2.06.94zm-11 1L8.5 8.5l.94-2.06 2.06-.94-2.06-.94L8.5 2.5l-.94 2.06-2.06.94zm10 10l.94 2.06.94-2.06 2.06-.94-2.06-.94-.94-2.06-.94 2.06-2.06.94z\"/><path d=\"M17.41 7.96l-1.37-1.37c-.4-.4-.92-.59-1.43-.59-.52 0-1.04.2-1.43.59L10.3 9.45l-7.72 7.72c-.78.78-.78 2.05 0 2.83L4 21.41c.39.39.9.59 1.41.59.51 0 1.02-.2 1.41-.59l7.78-7.78 2.81-2.81c.8-.78.8-2.07 0-2.86zM5.41 20L4 18.59l7.72-7.72 1.47 1.35L5.41 20z\"/>\n",
              "  </svg>\n",
              "      </button>\n",
              "      \n",
              "  <style>\n",
              "    .colab-df-container {\n",
              "      display:flex;\n",
              "      flex-wrap:wrap;\n",
              "      gap: 12px;\n",
              "    }\n",
              "\n",
              "    .colab-df-convert {\n",
              "      background-color: #E8F0FE;\n",
              "      border: none;\n",
              "      border-radius: 50%;\n",
              "      cursor: pointer;\n",
              "      display: none;\n",
              "      fill: #1967D2;\n",
              "      height: 32px;\n",
              "      padding: 0 0 0 0;\n",
              "      width: 32px;\n",
              "    }\n",
              "\n",
              "    .colab-df-convert:hover {\n",
              "      background-color: #E2EBFA;\n",
              "      box-shadow: 0px 1px 2px rgba(60, 64, 67, 0.3), 0px 1px 3px 1px rgba(60, 64, 67, 0.15);\n",
              "      fill: #174EA6;\n",
              "    }\n",
              "\n",
              "    [theme=dark] .colab-df-convert {\n",
              "      background-color: #3B4455;\n",
              "      fill: #D2E3FC;\n",
              "    }\n",
              "\n",
              "    [theme=dark] .colab-df-convert:hover {\n",
              "      background-color: #434B5C;\n",
              "      box-shadow: 0px 1px 3px 1px rgba(0, 0, 0, 0.15);\n",
              "      filter: drop-shadow(0px 1px 2px rgba(0, 0, 0, 0.3));\n",
              "      fill: #FFFFFF;\n",
              "    }\n",
              "  </style>\n",
              "\n",
              "      <script>\n",
              "        const buttonEl =\n",
              "          document.querySelector('#df-0a09d3f2-b881-4f6b-9c43-4295bf18207f button.colab-df-convert');\n",
              "        buttonEl.style.display =\n",
              "          google.colab.kernel.accessAllowed ? 'block' : 'none';\n",
              "\n",
              "        async function convertToInteractive(key) {\n",
              "          const element = document.querySelector('#df-0a09d3f2-b881-4f6b-9c43-4295bf18207f');\n",
              "          const dataTable =\n",
              "            await google.colab.kernel.invokeFunction('convertToInteractive',\n",
              "                                                     [key], {});\n",
              "          if (!dataTable) return;\n",
              "\n",
              "          const docLinkHtml = 'Like what you see? Visit the ' +\n",
              "            '<a target=\"_blank\" href=https://colab.research.google.com/notebooks/data_table.ipynb>data table notebook</a>'\n",
              "            + ' to learn more about interactive tables.';\n",
              "          element.innerHTML = '';\n",
              "          dataTable['output_type'] = 'display_data';\n",
              "          await google.colab.output.renderOutput(dataTable, element);\n",
              "          const docLink = document.createElement('div');\n",
              "          docLink.innerHTML = docLinkHtml;\n",
              "          element.appendChild(docLink);\n",
              "        }\n",
              "      </script>\n",
              "    </div>\n",
              "  </div>\n",
              "  "
            ]
          },
          "metadata": {},
          "execution_count": 23
        }
      ]
    },
    {
      "metadata": {
        "_cell_guid": "afa7d337-48ad-4915-920e-c4288d7ff8df",
        "_uuid": "7143599a9b528b21d4b3702143956bf01337b20c",
        "trusted": true,
        "id": "p6K-7krej319",
        "colab": {
          "base_uri": "https://localhost:8080/"
        },
        "outputId": "bfa72ea8-c876-4503-d9ae-613db10c1cc0"
      },
      "cell_type": "code",
      "source": [
        "#18 como extrair uma amostra (sample) com n% do dataframe original\n",
        "s = df.sample(frac=0.01)\n",
        "s.shape"
      ],
      "execution_count": 24,
      "outputs": [
        {
          "output_type": "execute_result",
          "data": {
            "text/plain": [
              "(206, 10)"
            ]
          },
          "metadata": {},
          "execution_count": 24
        }
      ]
    },
    {
      "metadata": {
        "trusted": true,
        "id": "xgh-fdCTj31-"
      },
      "cell_type": "code",
      "source": [
        "#19 importar as bibliotecas matplotlib e seaborn\n",
        "import matplotlib.pyplot as plt\n",
        "import seaborn as sns\n",
        "sns.set()"
      ],
      "execution_count": 25,
      "outputs": []
    },
    {
      "cell_type": "code",
      "source": [
        "%matplotlib inline\n",
        "df.plot(kind=\"scatter\",\n",
        "        x=\"longitude\",\n",
        "        y=\"latitude\",\n",
        "        alpha=0.4,\n",
        "        s=df[\"population\"]/100,\n",
        "        label=\"population\",\n",
        "        figsize=(10,10), \n",
        "        c=\"median_house_value\",\n",
        "        cmap=plt.get_cmap(\"jet\"),\n",
        "        colorbar=True)\n",
        "plt.show()"
      ],
      "metadata": {
        "colab": {
          "base_uri": "https://localhost:8080/",
          "height": 578
        },
        "id": "hCQ0iyY6dqhN",
        "outputId": "e2895675-92ce-4a00-e27f-a66c31095db7"
      },
      "execution_count": 26,
      "outputs": [
        {
          "output_type": "display_data",
          "data": {
            "text/plain": [
              "<Figure size 720x720 with 2 Axes>"
            ],
            "image/png": "[encoded data removed]"
          },
          "metadata": {
            "needs_background": "light"
          }
        }
      ]
    },
    {
      "metadata": {
        "_cell_guid": "fddb86e3-15d6-4836-b658-ecb933ed379d",
        "_uuid": "1e5e3a49737dcde1d180bd96d5b345dfa3a57a19",
        "trusted": true,
        "id": "WKYBlisXj31-",
        "colab": {
          "base_uri": "https://localhost:8080/",
          "height": 712
        },
        "outputId": "69e467da-30c8-4542-c2ee-cec4e35f1602"
      },
      "cell_type": "code",
      "source": [
        "#20 construir um mini histograma de todos os atributos do dataframe\n",
        "df.hist(bins=50, figsize=(20,15))\n",
        "plt.show()"
      ],
      "execution_count": 27,
      "outputs": [
        {
          "output_type": "display_data",
          "data": {
            "text/plain": [
              "<Figure size 1440x1080 with 9 Axes>"
            ],
            "image/png": "[encoded data removed]"
          },
          "metadata": {
            "needs_background": "light"
          }
        }
      ]
    },
    {
      "cell_type": "code",
      "source": [
        "#21 construir o histograma do atributo 'median_house_value' utilizando a biblioteca Seaborn.\n",
        "sns.histplot(data=df, x=\"median_house_value\", kde=True,hue=\"ocean_proximity\", multiple=\"stack\")\n",
        "plt.show()"
      ],
      "metadata": {
        "id": "iIwJ-ZqRPDU-",
        "colab": {
          "base_uri": "https://localhost:8080/",
          "height": 285
        },
        "outputId": "acb34a90-1ab8-426c-f8ba-9e9dfbe8e21c"
      },
      "execution_count": 28,
      "outputs": [
        {
          "output_type": "display_data",
          "data": {
            "text/plain": [
              "<Figure size 432x288 with 1 Axes>"
            ],
            "image/png": "[encoded data removed]"
          },
          "metadata": {
            "needs_background": "light"
          }
        }
      ]
    },
    {
      "metadata": {
        "trusted": true,
        "id": "r6hwzAIwj31_",
        "colab": {
          "base_uri": "https://localhost:8080/",
          "height": 284
        },
        "outputId": "f381f01e-b6c1-4206-84d4-47b1b2c567ca"
      },
      "cell_type": "code",
      "source": [
        "#22 construir um gráfico boxplot do atributo 'median_house_value'\n",
        "plt.boxplot(df['median_house_value'])\n",
        "plt.title('Median House Value')\n",
        "plt.show()"
      ],
      "execution_count": 29,
      "outputs": [
        {
          "output_type": "display_data",
          "data": {
            "text/plain": [
              "<Figure size 432x288 with 1 Axes>"
            ],
            "image/png": "[encoded data removed]"
          },
          "metadata": {
            "needs_background": "light"
          }
        }
      ]
    },
    {
      "cell_type": "code",
      "source": [
        "#23 construir um gráfico boxplot do atributo 'median_house_value' usando Seaborn\n",
        "sns.boxplot(data=df['median_house_value'])\n",
        "plt.title('Median House Value')"
      ],
      "metadata": {
        "id": "Ta567_cCi0kv",
        "colab": {
          "base_uri": "https://localhost:8080/",
          "height": 301
        },
        "outputId": "fa5a2952-b71a-4cb8-83e9-35762b9d10c4"
      },
      "execution_count": 30,
      "outputs": [
        {
          "output_type": "execute_result",
          "data": {
            "text/plain": [
              "Text(0.5, 1.0, 'Median House Value')"
            ]
          },
          "metadata": {},
          "execution_count": 30
        },
        {
          "output_type": "display_data",
          "data": {
            "text/plain": [
              "<Figure size 432x288 with 1 Axes>"
            ],
            "image/png": "[encoded data removed]"
          },
          "metadata": {
            "needs_background": "light"
          }
        }
      ]
    },
    {
      "metadata": {
        "trusted": true,
        "_uuid": "9f57388836fccdfafe5ba68d4861b85b6cd1168a",
        "id": "q8dw3hvsj31_",
        "colab": {
          "base_uri": "https://localhost:8080/",
          "height": 268
        },
        "outputId": "4723b4d2-57ad-4f5d-9576-90f99e8900e7"
      },
      "cell_type": "code",
      "source": [
        "#24 construa um histograma do atributo 'households'\n",
        "plt.hist(df['households'], bins=50)\n",
        "plt.show()"
      ],
      "execution_count": 31,
      "outputs": [
        {
          "output_type": "display_data",
          "data": {
            "text/plain": [
              "<Figure size 432x288 with 1 Axes>"
            ],
            "image/png": "[encoded data removed]"
          },
          "metadata": {
            "needs_background": "light"
          }
        }
      ]
    },
    {
      "cell_type": "code",
      "source": [
        "#25 construa um histograma do atributo 'households' com seaborn\n",
        "sns.histplot(data=df['households'], bins=50, kde=True)\n",
        "plt.show()"
      ],
      "metadata": {
        "id": "et3GKt9BkEMu",
        "colab": {
          "base_uri": "https://localhost:8080/",
          "height": 285
        },
        "outputId": "ee773093-4d1f-443f-c60c-841050f5e173"
      },
      "execution_count": 32,
      "outputs": [
        {
          "output_type": "display_data",
          "data": {
            "text/plain": [
              "<Figure size 432x288 with 1 Axes>"
            ],
            "image/png": "[encoded data removed]"
          },
          "metadata": {
            "needs_background": "light"
          }
        }
      ]
    },
    {
      "metadata": {
        "_cell_guid": "ee2a6a3d-c165-4a99-a98a-ac68467e5ec8",
        "_uuid": "3e2dd41213583a45d9931014a5d3ed3da3d28a0f",
        "trusted": true,
        "id": "JS1Mm42qj32A",
        "colab": {
          "base_uri": "https://localhost:8080/",
          "height": 396
        },
        "outputId": "d686d9b7-0091-4ef8-ae9a-bd41c3c2cb1a"
      },
      "cell_type": "code",
      "source": [
        "#26 Matriz de correlação \n",
        "corr = df.corr() # matriz de correlação\n",
        "corr"
      ],
      "execution_count": 33,
      "outputs": [
        {
          "output_type": "execute_result",
          "data": {
            "text/plain": [
              "                    longitude  latitude  housing_median_age  total_rooms  \\\n",
              "longitude            1.000000 -0.924664           -0.108197     0.044568   \n",
              "latitude            -0.924664  1.000000            0.011173    -0.036100   \n",
              "housing_median_age  -0.108197  0.011173            1.000000    -0.361262   \n",
              "total_rooms          0.044568 -0.036100           -0.361262     1.000000   \n",
              "total_bedrooms       0.069260 -0.066658           -0.318998     0.927253   \n",
              "population           0.099773 -0.108785           -0.296244     0.857126   \n",
              "households           0.055310 -0.071035           -0.302916     0.918484   \n",
              "median_income       -0.008003  0.001594            0.010905    -0.013137   \n",
              "median_house_value  -0.045967 -0.144160            0.105623     0.134153   \n",
              "\n",
              "                    total_bedrooms  population  households  median_income  \\\n",
              "longitude                 0.069260    0.099773    0.055310      -0.008003   \n",
              "latitude                 -0.066658   -0.108785   -0.071035       0.001594   \n",
              "housing_median_age       -0.318998   -0.296244   -0.302916       0.010905   \n",
              "total_rooms               0.927253    0.857126    0.918484      -0.013137   \n",
              "total_bedrooms            1.000000    0.873910    0.974725      -0.030237   \n",
              "population                0.873910    1.000000    0.907222      -0.030349   \n",
              "households                0.974725    0.907222    1.000000      -0.032127   \n",
              "median_income            -0.030237   -0.030349   -0.032127       1.000000   \n",
              "median_house_value        0.049454   -0.024650    0.065843       0.084127   \n",
              "\n",
              "                    median_house_value  \n",
              "longitude                    -0.045967  \n",
              "latitude                     -0.144160  \n",
              "housing_median_age            0.105623  \n",
              "total_rooms                   0.134153  \n",
              "total_bedrooms                0.049454  \n",
              "population                   -0.024650  \n",
              "households                    0.065843  \n",
              "median_income                 0.084127  \n",
              "median_house_value            1.000000  "
            ],
            "text/html": [
              "\n",
              "  <div id=\"df-c2f94c09-3450-48b9-8fcd-d4b42a499dc8\">\n",
              "    <div class=\"colab-df-container\">\n",
              "      <div>\n",
              "<style scoped>\n",
              "    .dataframe tbody tr th:only-of-type {\n",
              "        vertical-align: middle;\n",
              "    }\n",
              "\n",
              "    .dataframe tbody tr th {\n",
              "        vertical-align: top;\n",
              "    }\n",
              "\n",
              "    .dataframe thead th {\n",
              "        text-align: right;\n",
              "    }\n",
              "</style>\n",
              "<table border=\"1\" class=\"dataframe\">\n",
              "  <thead>\n",
              "    <tr style=\"text-align: right;\">\n",
              "      <th></th>\n",
              "      <th>longitude</th>\n",
              "      <th>latitude</th>\n",
              "      <th>housing_median_age</th>\n",
              "      <th>total_rooms</th>\n",
              "      <th>total_bedrooms</th>\n",
              "      <th>population</th>\n",
              "      <th>households</th>\n",
              "      <th>median_income</th>\n",
              "      <th>median_house_value</th>\n",
              "    </tr>\n",
              "  </thead>\n",
              "  <tbody>\n",
              "    <tr>\n",
              "      <th>longitude</th>\n",
              "      <td>1.000000</td>\n",
              "      <td>-0.924664</td>\n",
              "      <td>-0.108197</td>\n",
              "      <td>0.044568</td>\n",
              "      <td>0.069260</td>\n",
              "      <td>0.099773</td>\n",
              "      <td>0.055310</td>\n",
              "      <td>-0.008003</td>\n",
              "      <td>-0.045967</td>\n",
              "    </tr>\n",
              "    <tr>\n",
              "      <th>latitude</th>\n",
              "      <td>-0.924664</td>\n",
              "      <td>1.000000</td>\n",
              "      <td>0.011173</td>\n",
              "      <td>-0.036100</td>\n",
              "      <td>-0.066658</td>\n",
              "      <td>-0.108785</td>\n",
              "      <td>-0.071035</td>\n",
              "      <td>0.001594</td>\n",
              "      <td>-0.144160</td>\n",
              "    </tr>\n",
              "    <tr>\n",
              "      <th>housing_median_age</th>\n",
              "      <td>-0.108197</td>\n",
              "      <td>0.011173</td>\n",
              "      <td>1.000000</td>\n",
              "      <td>-0.361262</td>\n",
              "      <td>-0.318998</td>\n",
              "      <td>-0.296244</td>\n",
              "      <td>-0.302916</td>\n",
              "      <td>0.010905</td>\n",
              "      <td>0.105623</td>\n",
              "    </tr>\n",
              "    <tr>\n",
              "      <th>total_rooms</th>\n",
              "      <td>0.044568</td>\n",
              "      <td>-0.036100</td>\n",
              "      <td>-0.361262</td>\n",
              "      <td>1.000000</td>\n",
              "      <td>0.927253</td>\n",
              "      <td>0.857126</td>\n",
              "      <td>0.918484</td>\n",
              "      <td>-0.013137</td>\n",
              "      <td>0.134153</td>\n",
              "    </tr>\n",
              "    <tr>\n",
              "      <th>total_bedrooms</th>\n",
              "      <td>0.069260</td>\n",
              "      <td>-0.066658</td>\n",
              "      <td>-0.318998</td>\n",
              "      <td>0.927253</td>\n",
              "      <td>1.000000</td>\n",
              "      <td>0.873910</td>\n",
              "      <td>0.974725</td>\n",
              "      <td>-0.030237</td>\n",
              "      <td>0.049454</td>\n",
              "    </tr>\n",
              "    <tr>\n",
              "      <th>population</th>\n",
              "      <td>0.099773</td>\n",
              "      <td>-0.108785</td>\n",
              "      <td>-0.296244</td>\n",
              "      <td>0.857126</td>\n",
              "      <td>0.873910</td>\n",
              "      <td>1.000000</td>\n",
              "      <td>0.907222</td>\n",
              "      <td>-0.030349</td>\n",
              "      <td>-0.024650</td>\n",
              "    </tr>\n",
              "    <tr>\n",
              "      <th>households</th>\n",
              "      <td>0.055310</td>\n",
              "      <td>-0.071035</td>\n",
              "      <td>-0.302916</td>\n",
              "      <td>0.918484</td>\n",
              "      <td>0.974725</td>\n",
              "      <td>0.907222</td>\n",
              "      <td>1.000000</td>\n",
              "      <td>-0.032127</td>\n",
              "      <td>0.065843</td>\n",
              "    </tr>\n",
              "    <tr>\n",
              "      <th>median_income</th>\n",
              "      <td>-0.008003</td>\n",
              "      <td>0.001594</td>\n",
              "      <td>0.010905</td>\n",
              "      <td>-0.013137</td>\n",
              "      <td>-0.030237</td>\n",
              "      <td>-0.030349</td>\n",
              "      <td>-0.032127</td>\n",
              "      <td>1.000000</td>\n",
              "      <td>0.084127</td>\n",
              "    </tr>\n",
              "    <tr>\n",
              "      <th>median_house_value</th>\n",
              "      <td>-0.045967</td>\n",
              "      <td>-0.144160</td>\n",
              "      <td>0.105623</td>\n",
              "      <td>0.134153</td>\n",
              "      <td>0.049454</td>\n",
              "      <td>-0.024650</td>\n",
              "      <td>0.065843</td>\n",
              "      <td>0.084127</td>\n",
              "      <td>1.000000</td>\n",
              "    </tr>\n",
              "  </tbody>\n",
              "</table>\n",
              "</div>\n",
              "      <button class=\"colab-df-convert\" onclick=\"convertToInteractive('df-c2f94c09-3450-48b9-8fcd-d4b42a499dc8')\"\n",
              "              title=\"Convert this dataframe to an interactive table.\"\n",
              "              style=\"display:none;\">\n",
              "        \n",
              "  <svg xmlns=\"http://www.w3.org/2000/svg\" height=\"24px\"viewBox=\"0 0 24 24\"\n",
              "       width=\"24px\">\n",
              "    <path d=\"M0 0h24v24H0V0z\" fill=\"none\"/>\n",
              "    <path d=\"M18.56 5.44l.94 2.06.94-2.06 2.06-.94-2.06-.94-.94-2.06-.94 2.06-2.06.94zm-11 1L8.5 8.5l.94-2.06 2.06-.94-2.06-.94L8.5 2.5l-.94 2.06-2.06.94zm10 10l.94 2.06.94-2.06 2.06-.94-2.06-.94-.94-2.06-.94 2.06-2.06.94z\"/><path d=\"M17.41 7.96l-1.37-1.37c-.4-.4-.92-.59-1.43-.59-.52 0-1.04.2-1.43.59L10.3 9.45l-7.72 7.72c-.78.78-.78 2.05 0 2.83L4 21.41c.39.39.9.59 1.41.59.51 0 1.02-.2 1.41-.59l7.78-7.78 2.81-2.81c.8-.78.8-2.07 0-2.86zM5.41 20L4 18.59l7.72-7.72 1.47 1.35L5.41 20z\"/>\n",
              "  </svg>\n",
              "      </button>\n",
              "      \n",
              "  <style>\n",
              "    .colab-df-container {\n",
              "      display:flex;\n",
              "      flex-wrap:wrap;\n",
              "      gap: 12px;\n",
              "    }\n",
              "\n",
              "    .colab-df-convert {\n",
              "      background-color: #E8F0FE;\n",
              "      border: none;\n",
              "      border-radius: 50%;\n",
              "      cursor: pointer;\n",
              "      display: none;\n",
              "      fill: #1967D2;\n",
              "      height: 32px;\n",
              "      padding: 0 0 0 0;\n",
              "      width: 32px;\n",
              "    }\n",
              "\n",
              "    .colab-df-convert:hover {\n",
              "      background-color: #E2EBFA;\n",
              "      box-shadow: 0px 1px 2px rgba(60, 64, 67, 0.3), 0px 1px 3px 1px rgba(60, 64, 67, 0.15);\n",
              "      fill: #174EA6;\n",
              "    }\n",
              "\n",
              "    [theme=dark] .colab-df-convert {\n",
              "      background-color: #3B4455;\n",
              "      fill: #D2E3FC;\n",
              "    }\n",
              "\n",
              "    [theme=dark] .colab-df-convert:hover {\n",
              "      background-color: #434B5C;\n",
              "      box-shadow: 0px 1px 3px 1px rgba(0, 0, 0, 0.15);\n",
              "      filter: drop-shadow(0px 1px 2px rgba(0, 0, 0, 0.3));\n",
              "      fill: #FFFFFF;\n",
              "    }\n",
              "  </style>\n",
              "\n",
              "      <script>\n",
              "        const buttonEl =\n",
              "          document.querySelector('#df-c2f94c09-3450-48b9-8fcd-d4b42a499dc8 button.colab-df-convert');\n",
              "        buttonEl.style.display =\n",
              "          google.colab.kernel.accessAllowed ? 'block' : 'none';\n",
              "\n",
              "        async function convertToInteractive(key) {\n",
              "          const element = document.querySelector('#df-c2f94c09-3450-48b9-8fcd-d4b42a499dc8');\n",
              "          const dataTable =\n",
              "            await google.colab.kernel.invokeFunction('convertToInteractive',\n",
              "                                                     [key], {});\n",
              "          if (!dataTable) return;\n",
              "\n",
              "          const docLinkHtml = 'Like what you see? Visit the ' +\n",
              "            '<a target=\"_blank\" href=https://colab.research.google.com/notebooks/data_table.ipynb>data table notebook</a>'\n",
              "            + ' to learn more about interactive tables.';\n",
              "          element.innerHTML = '';\n",
              "          dataTable['output_type'] = 'display_data';\n",
              "          await google.colab.output.renderOutput(dataTable, element);\n",
              "          const docLink = document.createElement('div');\n",
              "          docLink.innerHTML = docLinkHtml;\n",
              "          element.appendChild(docLink);\n",
              "        }\n",
              "      </script>\n",
              "    </div>\n",
              "  </div>\n",
              "  "
            ]
          },
          "metadata": {},
          "execution_count": 33
        }
      ]
    },
    {
      "metadata": {
        "trusted": true,
        "id": "t_O7zKNZj32A",
        "colab": {
          "base_uri": "https://localhost:8080/",
          "height": 976
        },
        "outputId": "5f525a8d-61f0-4719-a0a1-b785c8cbe96a"
      },
      "cell_type": "code",
      "source": [
        "#27 Visualização da Matriz de Correlação em um Mapa de calor\n",
        "plt.figure(figsize=(15,15))\n",
        "sns.heatmap(corr,annot=True) \n",
        "plt.show()"
      ],
      "execution_count": 34,
      "outputs": [
        {
          "output_type": "display_data",
          "data": {
            "text/plain": [
              "<Figure size 1080x1080 with 2 Axes>"
            ],
            "image/png": "[encoded data removed]"
          },
          "metadata": {
            "needs_background": "light"
          }
        }
      ]
    },
    {
      "cell_type": "code",
      "source": [
        "#Uma matriz de dispersão (pairs plot) plota compactamente todas as variáveis numéricas que temos em um conjunto de \n",
        "#dados umas contra as outras. Em Python, essa técnica de visualização de dados pode ser realizada com muitas bibliotecas, \n",
        "#mas se estivermos usando Pandas para carregar os dados, podemos usar o método base scatter_matrix para visualizar o conjunto de dados.\n",
        "#pd.plotting.scatter_matrix(df)"
      ],
      "metadata": {
        "id": "e379CUP9a2vV"
      },
      "execution_count": 35,
      "outputs": []
    },
    {
      "metadata": {
        "trusted": true,
        "id": "feOj_kUWj32B",
        "colab": {
          "base_uri": "https://localhost:8080/"
        },
        "outputId": "d200ad25-68d1-434d-cd60-f45ac3fde85d"
      },
      "cell_type": "code",
      "source": [
        "#28 Vetor com o nome das colunas\n",
        "df.columns"
      ],
      "execution_count": 36,
      "outputs": [
        {
          "output_type": "execute_result",
          "data": {
            "text/plain": [
              "Index(['longitude', 'latitude', 'housing_median_age', 'total_rooms',\n",
              "       'total_bedrooms', 'population', 'households', 'median_income',\n",
              "       'median_house_value', 'ocean_proximity'],\n",
              "      dtype='object')"
            ]
          },
          "metadata": {},
          "execution_count": 36
        }
      ]
    },
    {
      "cell_type": "code",
      "source": [
        "#29 apagar as colunas 'longitude' e 'latitude'\n",
        "df.drop(['longitude','latitude'], axis=1, inplace=True)"
      ],
      "metadata": {
        "id": "Kl7cVHTwfNPH"
      },
      "execution_count": 37,
      "outputs": []
    },
    {
      "metadata": {
        "trusted": true,
        "id": "xk0iCOpWj32B"
      },
      "cell_type": "code",
      "source": [
        "#30 Normalizar as escalas dos atributos do dataframe, retirar da normalização median_house_value e ocean_proximity \n",
        "from sklearn.preprocessing import Normalizer\n",
        "escala = Normalizer()\n",
        "df[['housing_median_age', 'total_rooms',\n",
        "    'total_bedrooms', 'population', 'households', 'median_income']] = escala.fit_transform(\n",
        "        df[['housing_median_age', 'total_rooms',\n",
        "       'total_bedrooms', 'population', 'households', 'median_income']])"
      ],
      "execution_count": 38,
      "outputs": []
    },
    {
      "metadata": {
        "trusted": true,
        "id": "kb_8diMvj32B",
        "colab": {
          "base_uri": "https://localhost:8080/",
          "height": 270
        },
        "outputId": "714ae4a3-2442-413e-8f19-ea6b2c729f0a"
      },
      "cell_type": "code",
      "source": [
        "#31 head()\n",
        "df.head()"
      ],
      "execution_count": 39,
      "outputs": [
        {
          "output_type": "execute_result",
          "data": {
            "text/plain": [
              "   housing_median_age  total_rooms  total_bedrooms  population  households  \\\n",
              "0            0.042924     0.921301        0.135054    0.337112    0.131914   \n",
              "1            0.002741     0.926732        0.144382    0.313436    0.148559   \n",
              "2            0.033098     0.933753        0.120936    0.315707    0.112661   \n",
              "3            0.036404     0.891899        0.164518    0.390643    0.153317   \n",
              "4            0.029465     0.921912        0.158657    0.320148    0.146758   \n",
              "\n",
              "   median_income  median_house_value ocean_proximity  \n",
              "0       0.008716            452600.0        NEAR BAY  \n",
              "1       0.001084            358500.0        NEAR BAY  \n",
              "2       0.004619            352100.0        NEAR BAY  \n",
              "3       0.003951            341300.0        NEAR BAY  \n",
              "4       0.002179            342200.0        NEAR BAY  "
            ],
            "text/html": [
              "\n",
              "  <div id=\"df-5514891b-04c5-46ad-82fc-a8e6335db51a\">\n",
              "    <div class=\"colab-df-container\">\n",
              "      <div>\n",
              "<style scoped>\n",
              "    .dataframe tbody tr th:only-of-type {\n",
              "        vertical-align: middle;\n",
              "    }\n",
              "\n",
              "    .dataframe tbody tr th {\n",
              "        vertical-align: top;\n",
              "    }\n",
              "\n",
              "    .dataframe thead th {\n",
              "        text-align: right;\n",
              "    }\n",
              "</style>\n",
              "<table border=\"1\" class=\"dataframe\">\n",
              "  <thead>\n",
              "    <tr style=\"text-align: right;\">\n",
              "      <th></th>\n",
              "      <th>housing_median_age</th>\n",
              "      <th>total_rooms</th>\n",
              "      <th>total_bedrooms</th>\n",
              "      <th>population</th>\n",
              "      <th>households</th>\n",
              "      <th>median_income</th>\n",
              "      <th>median_house_value</th>\n",
              "      <th>ocean_proximity</th>\n",
              "    </tr>\n",
              "  </thead>\n",
              "  <tbody>\n",
              "    <tr>\n",
              "      <th>0</th>\n",
              "      <td>0.042924</td>\n",
              "      <td>0.921301</td>\n",
              "      <td>0.135054</td>\n",
              "      <td>0.337112</td>\n",
              "      <td>0.131914</td>\n",
              "      <td>0.008716</td>\n",
              "      <td>452600.0</td>\n",
              "      <td>NEAR BAY</td>\n",
              "    </tr>\n",
              "    <tr>\n",
              "      <th>1</th>\n",
              "      <td>0.002741</td>\n",
              "      <td>0.926732</td>\n",
              "      <td>0.144382</td>\n",
              "      <td>0.313436</td>\n",
              "      <td>0.148559</td>\n",
              "      <td>0.001084</td>\n",
              "      <td>358500.0</td>\n",
              "      <td>NEAR BAY</td>\n",
              "    </tr>\n",
              "    <tr>\n",
              "      <th>2</th>\n",
              "      <td>0.033098</td>\n",
              "      <td>0.933753</td>\n",
              "      <td>0.120936</td>\n",
              "      <td>0.315707</td>\n",
              "      <td>0.112661</td>\n",
              "      <td>0.004619</td>\n",
              "      <td>352100.0</td>\n",
              "      <td>NEAR BAY</td>\n",
              "    </tr>\n",
              "    <tr>\n",
              "      <th>3</th>\n",
              "      <td>0.036404</td>\n",
              "      <td>0.891899</td>\n",
              "      <td>0.164518</td>\n",
              "      <td>0.390643</td>\n",
              "      <td>0.153317</td>\n",
              "      <td>0.003951</td>\n",
              "      <td>341300.0</td>\n",
              "      <td>NEAR BAY</td>\n",
              "    </tr>\n",
              "    <tr>\n",
              "      <th>4</th>\n",
              "      <td>0.029465</td>\n",
              "      <td>0.921912</td>\n",
              "      <td>0.158657</td>\n",
              "      <td>0.320148</td>\n",
              "      <td>0.146758</td>\n",
              "      <td>0.002179</td>\n",
              "      <td>342200.0</td>\n",
              "      <td>NEAR BAY</td>\n",
              "    </tr>\n",
              "  </tbody>\n",
              "</table>\n",
              "</div>\n",
              "      <button class=\"colab-df-convert\" onclick=\"convertToInteractive('df-5514891b-04c5-46ad-82fc-a8e6335db51a')\"\n",
              "              title=\"Convert this dataframe to an interactive table.\"\n",
              "              style=\"display:none;\">\n",
              "        \n",
              "  <svg xmlns=\"http://www.w3.org/2000/svg\" height=\"24px\"viewBox=\"0 0 24 24\"\n",
              "       width=\"24px\">\n",
              "    <path d=\"M0 0h24v24H0V0z\" fill=\"none\"/>\n",
              "    <path d=\"M18.56 5.44l.94 2.06.94-2.06 2.06-.94-2.06-.94-.94-2.06-.94 2.06-2.06.94zm-11 1L8.5 8.5l.94-2.06 2.06-.94-2.06-.94L8.5 2.5l-.94 2.06-2.06.94zm10 10l.94 2.06.94-2.06 2.06-.94-2.06-.94-.94-2.06-.94 2.06-2.06.94z\"/><path d=\"M17.41 7.96l-1.37-1.37c-.4-.4-.92-.59-1.43-.59-.52 0-1.04.2-1.43.59L10.3 9.45l-7.72 7.72c-.78.78-.78 2.05 0 2.83L4 21.41c.39.39.9.59 1.41.59.51 0 1.02-.2 1.41-.59l7.78-7.78 2.81-2.81c.8-.78.8-2.07 0-2.86zM5.41 20L4 18.59l7.72-7.72 1.47 1.35L5.41 20z\"/>\n",
              "  </svg>\n",
              "      </button>\n",
              "      \n",
              "  <style>\n",
              "    .colab-df-container {\n",
              "      display:flex;\n",
              "      flex-wrap:wrap;\n",
              "      gap: 12px;\n",
              "    }\n",
              "\n",
              "    .colab-df-convert {\n",
              "      background-color: #E8F0FE;\n",
              "      border: none;\n",
              "      border-radius: 50%;\n",
              "      cursor: pointer;\n",
              "      display: none;\n",
              "      fill: #1967D2;\n",
              "      height: 32px;\n",
              "      padding: 0 0 0 0;\n",
              "      width: 32px;\n",
              "    }\n",
              "\n",
              "    .colab-df-convert:hover {\n",
              "      background-color: #E2EBFA;\n",
              "      box-shadow: 0px 1px 2px rgba(60, 64, 67, 0.3), 0px 1px 3px 1px rgba(60, 64, 67, 0.15);\n",
              "      fill: #174EA6;\n",
              "    }\n",
              "\n",
              "    [theme=dark] .colab-df-convert {\n",
              "      background-color: #3B4455;\n",
              "      fill: #D2E3FC;\n",
              "    }\n",
              "\n",
              "    [theme=dark] .colab-df-convert:hover {\n",
              "      background-color: #434B5C;\n",
              "      box-shadow: 0px 1px 3px 1px rgba(0, 0, 0, 0.15);\n",
              "      filter: drop-shadow(0px 1px 2px rgba(0, 0, 0, 0.3));\n",
              "      fill: #FFFFFF;\n",
              "    }\n",
              "  </style>\n",
              "\n",
              "      <script>\n",
              "        const buttonEl =\n",
              "          document.querySelector('#df-5514891b-04c5-46ad-82fc-a8e6335db51a button.colab-df-convert');\n",
              "        buttonEl.style.display =\n",
              "          google.colab.kernel.accessAllowed ? 'block' : 'none';\n",
              "\n",
              "        async function convertToInteractive(key) {\n",
              "          const element = document.querySelector('#df-5514891b-04c5-46ad-82fc-a8e6335db51a');\n",
              "          const dataTable =\n",
              "            await google.colab.kernel.invokeFunction('convertToInteractive',\n",
              "                                                     [key], {});\n",
              "          if (!dataTable) return;\n",
              "\n",
              "          const docLinkHtml = 'Like what you see? Visit the ' +\n",
              "            '<a target=\"_blank\" href=https://colab.research.google.com/notebooks/data_table.ipynb>data table notebook</a>'\n",
              "            + ' to learn more about interactive tables.';\n",
              "          element.innerHTML = '';\n",
              "          dataTable['output_type'] = 'display_data';\n",
              "          await google.colab.output.renderOutput(dataTable, element);\n",
              "          const docLink = document.createElement('div');\n",
              "          docLink.innerHTML = docLinkHtml;\n",
              "          element.appendChild(docLink);\n",
              "        }\n",
              "      </script>\n",
              "    </div>\n",
              "  </div>\n",
              "  "
            ]
          },
          "metadata": {},
          "execution_count": 39
        }
      ]
    },
    {
      "cell_type": "code",
      "source": [
        "#32 transformar a coluna 'ocean_proximity' in variável categorica\n",
        "df['ocean_proximity'] = df['ocean_proximity'].astype('category')\n",
        "df.info()"
      ],
      "metadata": {
        "id": "iBMurtyeoNX7",
        "colab": {
          "base_uri": "https://localhost:8080/"
        },
        "outputId": "9e9ce67f-9fe8-409e-f90d-440a96aa2b20"
      },
      "execution_count": 40,
      "outputs": [
        {
          "output_type": "stream",
          "name": "stdout",
          "text": [
            "<class 'pandas.core.frame.DataFrame'>\n",
            "Int64Index: 20640 entries, 0 to 20646\n",
            "Data columns (total 8 columns):\n",
            " #   Column              Non-Null Count  Dtype   \n",
            "---  ------              --------------  -----   \n",
            " 0   housing_median_age  20640 non-null  float64 \n",
            " 1   total_rooms         20640 non-null  float64 \n",
            " 2   total_bedrooms      20640 non-null  float64 \n",
            " 3   population          20640 non-null  float64 \n",
            " 4   households          20640 non-null  float64 \n",
            " 5   median_income       20640 non-null  float64 \n",
            " 6   median_house_value  20640 non-null  float64 \n",
            " 7   ocean_proximity     20640 non-null  category\n",
            "dtypes: category(1), float64(7)\n",
            "memory usage: 1.8 MB\n"
          ]
        }
      ]
    },
    {
      "cell_type": "code",
      "source": [
        "#33 Contar quantas vezes cada categoria aparece na coluna ocean_proximity\n",
        "df['ocean_proximity'].value_counts()\n",
        "df['ocean_proximity'].unique()"
      ],
      "metadata": {
        "id": "kfSd6QUpmaqV",
        "colab": {
          "base_uri": "https://localhost:8080/"
        },
        "outputId": "fff85140-ae97-43ac-8345-dd61ca2e7acc"
      },
      "execution_count": 41,
      "outputs": [
        {
          "output_type": "execute_result",
          "data": {
            "text/plain": [
              "['NEAR BAY', '<1H OCEAN', 'INLAND', 'NEAR OCEAN', 'ISLAND']\n",
              "Categories (5, object): ['<1H OCEAN', 'INLAND', 'ISLAND', 'NEAR BAY', 'NEAR OCEAN']"
            ]
          },
          "metadata": {},
          "execution_count": 41
        }
      ]
    },
    {
      "cell_type": "code",
      "source": [
        "#d = dict(enumerate(df['ocean_proximity'].cat.categories))\n",
        "#d.get(3)"
      ],
      "metadata": {
        "id": "uks6p2ttuiAA"
      },
      "execution_count": 42,
      "outputs": []
    },
    {
      "cell_type": "code",
      "source": [
        "#df['ocean_proximity'] = df['ocean_proximity'].cat.codes"
      ],
      "metadata": {
        "id": "w8AmmOAOtKUg"
      },
      "execution_count": 43,
      "outputs": []
    },
    {
      "cell_type": "code",
      "source": [
        "#df.head()"
      ],
      "metadata": {
        "id": "CJGd08zbtY1v"
      },
      "execution_count": 44,
      "outputs": []
    },
    {
      "cell_type": "code",
      "source": [
        "df.info()"
      ],
      "metadata": {
        "id": "1lzS6I_luZvP"
      },
      "execution_count": null,
      "outputs": []
    },
    {
      "metadata": {
        "trusted": true,
        "id": "KYEMaAlCj32C"
      },
      "cell_type": "code",
      "source": [
        "#34 Codificar o atributo 'ocean_proximity' com get_dummies\n",
        "df =  pd.get_dummies(df, prefix=['ocean_proximity'])"
      ],
      "execution_count": 45,
      "outputs": []
    },
    {
      "metadata": {
        "trusted": true,
        "id": "SoXlvFBVj32C",
        "colab": {
          "base_uri": "https://localhost:8080/",
          "height": 288
        },
        "outputId": "7f543e6f-87d6-475d-9507-04837b057808"
      },
      "cell_type": "code",
      "source": [
        "#35 head\n",
        "df.head()"
      ],
      "execution_count": 46,
      "outputs": [
        {
          "output_type": "execute_result",
          "data": {
            "text/plain": [
              "   housing_median_age  total_rooms  total_bedrooms  population  households  \\\n",
              "0            0.042924     0.921301        0.135054    0.337112    0.131914   \n",
              "1            0.002741     0.926732        0.144382    0.313436    0.148559   \n",
              "2            0.033098     0.933753        0.120936    0.315707    0.112661   \n",
              "3            0.036404     0.891899        0.164518    0.390643    0.153317   \n",
              "4            0.029465     0.921912        0.158657    0.320148    0.146758   \n",
              "\n",
              "   median_income  median_house_value  ocean_proximity_<1H OCEAN  \\\n",
              "0       0.008716            452600.0                          0   \n",
              "1       0.001084            358500.0                          0   \n",
              "2       0.004619            352100.0                          0   \n",
              "3       0.003951            341300.0                          0   \n",
              "4       0.002179            342200.0                          0   \n",
              "\n",
              "   ocean_proximity_INLAND  ocean_proximity_ISLAND  ocean_proximity_NEAR BAY  \\\n",
              "0                       0                       0                         1   \n",
              "1                       0                       0                         1   \n",
              "2                       0                       0                         1   \n",
              "3                       0                       0                         1   \n",
              "4                       0                       0                         1   \n",
              "\n",
              "   ocean_proximity_NEAR OCEAN  \n",
              "0                           0  \n",
              "1                           0  \n",
              "2                           0  \n",
              "3                           0  \n",
              "4                           0  "
            ],
            "text/html": [
              "\n",
              "  <div id=\"df-a2fa33a9-2517-4bad-b5ad-acc94e2b7330\">\n",
              "    <div class=\"colab-df-container\">\n",
              "      <div>\n",
              "<style scoped>\n",
              "    .dataframe tbody tr th:only-of-type {\n",
              "        vertical-align: middle;\n",
              "    }\n",
              "\n",
              "    .dataframe tbody tr th {\n",
              "        vertical-align: top;\n",
              "    }\n",
              "\n",
              "    .dataframe thead th {\n",
              "        text-align: right;\n",
              "    }\n",
              "</style>\n",
              "<table border=\"1\" class=\"dataframe\">\n",
              "  <thead>\n",
              "    <tr style=\"text-align: right;\">\n",
              "      <th></th>\n",
              "      <th>housing_median_age</th>\n",
              "      <th>total_rooms</th>\n",
              "      <th>total_bedrooms</th>\n",
              "      <th>population</th>\n",
              "      <th>households</th>\n",
              "      <th>median_income</th>\n",
              "      <th>median_house_value</th>\n",
              "      <th>ocean_proximity_&lt;1H OCEAN</th>\n",
              "      <th>ocean_proximity_INLAND</th>\n",
              "      <th>ocean_proximity_ISLAND</th>\n",
              "      <th>ocean_proximity_NEAR BAY</th>\n",
              "      <th>ocean_proximity_NEAR OCEAN</th>\n",
              "    </tr>\n",
              "  </thead>\n",
              "  <tbody>\n",
              "    <tr>\n",
              "      <th>0</th>\n",
              "      <td>0.042924</td>\n",
              "      <td>0.921301</td>\n",
              "      <td>0.135054</td>\n",
              "      <td>0.337112</td>\n",
              "      <td>0.131914</td>\n",
              "      <td>0.008716</td>\n",
              "      <td>452600.0</td>\n",
              "      <td>0</td>\n",
              "      <td>0</td>\n",
              "      <td>0</td>\n",
              "      <td>1</td>\n",
              "      <td>0</td>\n",
              "    </tr>\n",
              "    <tr>\n",
              "      <th>1</th>\n",
              "      <td>0.002741</td>\n",
              "      <td>0.926732</td>\n",
              "      <td>0.144382</td>\n",
              "      <td>0.313436</td>\n",
              "      <td>0.148559</td>\n",
              "      <td>0.001084</td>\n",
              "      <td>358500.0</td>\n",
              "      <td>0</td>\n",
              "      <td>0</td>\n",
              "      <td>0</td>\n",
              "      <td>1</td>\n",
              "      <td>0</td>\n",
              "    </tr>\n",
              "    <tr>\n",
              "      <th>2</th>\n",
              "      <td>0.033098</td>\n",
              "      <td>0.933753</td>\n",
              "      <td>0.120936</td>\n",
              "      <td>0.315707</td>\n",
              "      <td>0.112661</td>\n",
              "      <td>0.004619</td>\n",
              "      <td>352100.0</td>\n",
              "      <td>0</td>\n",
              "      <td>0</td>\n",
              "      <td>0</td>\n",
              "      <td>1</td>\n",
              "      <td>0</td>\n",
              "    </tr>\n",
              "    <tr>\n",
              "      <th>3</th>\n",
              "      <td>0.036404</td>\n",
              "      <td>0.891899</td>\n",
              "      <td>0.164518</td>\n",
              "      <td>0.390643</td>\n",
              "      <td>0.153317</td>\n",
              "      <td>0.003951</td>\n",
              "      <td>341300.0</td>\n",
              "      <td>0</td>\n",
              "      <td>0</td>\n",
              "      <td>0</td>\n",
              "      <td>1</td>\n",
              "      <td>0</td>\n",
              "    </tr>\n",
              "    <tr>\n",
              "      <th>4</th>\n",
              "      <td>0.029465</td>\n",
              "      <td>0.921912</td>\n",
              "      <td>0.158657</td>\n",
              "      <td>0.320148</td>\n",
              "      <td>0.146758</td>\n",
              "      <td>0.002179</td>\n",
              "      <td>342200.0</td>\n",
              "      <td>0</td>\n",
              "      <td>0</td>\n",
              "      <td>0</td>\n",
              "      <td>1</td>\n",
              "      <td>0</td>\n",
              "    </tr>\n",
              "  </tbody>\n",
              "</table>\n",
              "</div>\n",
              "      <button class=\"colab-df-convert\" onclick=\"convertToInteractive('df-a2fa33a9-2517-4bad-b5ad-acc94e2b7330')\"\n",
              "              title=\"Convert this dataframe to an interactive table.\"\n",
              "              style=\"display:none;\">\n",
              "        \n",
              "  <svg xmlns=\"http://www.w3.org/2000/svg\" height=\"24px\"viewBox=\"0 0 24 24\"\n",
              "       width=\"24px\">\n",
              "    <path d=\"M0 0h24v24H0V0z\" fill=\"none\"/>\n",
              "    <path d=\"M18.56 5.44l.94 2.06.94-2.06 2.06-.94-2.06-.94-.94-2.06-.94 2.06-2.06.94zm-11 1L8.5 8.5l.94-2.06 2.06-.94-2.06-.94L8.5 2.5l-.94 2.06-2.06.94zm10 10l.94 2.06.94-2.06 2.06-.94-2.06-.94-.94-2.06-.94 2.06-2.06.94z\"/><path d=\"M17.41 7.96l-1.37-1.37c-.4-.4-.92-.59-1.43-.59-.52 0-1.04.2-1.43.59L10.3 9.45l-7.72 7.72c-.78.78-.78 2.05 0 2.83L4 21.41c.39.39.9.59 1.41.59.51 0 1.02-.2 1.41-.59l7.78-7.78 2.81-2.81c.8-.78.8-2.07 0-2.86zM5.41 20L4 18.59l7.72-7.72 1.47 1.35L5.41 20z\"/>\n",
              "  </svg>\n",
              "      </button>\n",
              "      \n",
              "  <style>\n",
              "    .colab-df-container {\n",
              "      display:flex;\n",
              "      flex-wrap:wrap;\n",
              "      gap: 12px;\n",
              "    }\n",
              "\n",
              "    .colab-df-convert {\n",
              "      background-color: #E8F0FE;\n",
              "      border: none;\n",
              "      border-radius: 50%;\n",
              "      cursor: pointer;\n",
              "      display: none;\n",
              "      fill: #1967D2;\n",
              "      height: 32px;\n",
              "      padding: 0 0 0 0;\n",
              "      width: 32px;\n",
              "    }\n",
              "\n",
              "    .colab-df-convert:hover {\n",
              "      background-color: #E2EBFA;\n",
              "      box-shadow: 0px 1px 2px rgba(60, 64, 67, 0.3), 0px 1px 3px 1px rgba(60, 64, 67, 0.15);\n",
              "      fill: #174EA6;\n",
              "    }\n",
              "\n",
              "    [theme=dark] .colab-df-convert {\n",
              "      background-color: #3B4455;\n",
              "      fill: #D2E3FC;\n",
              "    }\n",
              "\n",
              "    [theme=dark] .colab-df-convert:hover {\n",
              "      background-color: #434B5C;\n",
              "      box-shadow: 0px 1px 3px 1px rgba(0, 0, 0, 0.15);\n",
              "      filter: drop-shadow(0px 1px 2px rgba(0, 0, 0, 0.3));\n",
              "      fill: #FFFFFF;\n",
              "    }\n",
              "  </style>\n",
              "\n",
              "      <script>\n",
              "        const buttonEl =\n",
              "          document.querySelector('#df-a2fa33a9-2517-4bad-b5ad-acc94e2b7330 button.colab-df-convert');\n",
              "        buttonEl.style.display =\n",
              "          google.colab.kernel.accessAllowed ? 'block' : 'none';\n",
              "\n",
              "        async function convertToInteractive(key) {\n",
              "          const element = document.querySelector('#df-a2fa33a9-2517-4bad-b5ad-acc94e2b7330');\n",
              "          const dataTable =\n",
              "            await google.colab.kernel.invokeFunction('convertToInteractive',\n",
              "                                                     [key], {});\n",
              "          if (!dataTable) return;\n",
              "\n",
              "          const docLinkHtml = 'Like what you see? Visit the ' +\n",
              "            '<a target=\"_blank\" href=https://colab.research.google.com/notebooks/data_table.ipynb>data table notebook</a>'\n",
              "            + ' to learn more about interactive tables.';\n",
              "          element.innerHTML = '';\n",
              "          dataTable['output_type'] = 'display_data';\n",
              "          await google.colab.output.renderOutput(dataTable, element);\n",
              "          const docLink = document.createElement('div');\n",
              "          docLink.innerHTML = docLinkHtml;\n",
              "          element.appendChild(docLink);\n",
              "        }\n",
              "      </script>\n",
              "    </div>\n",
              "  </div>\n",
              "  "
            ]
          },
          "metadata": {},
          "execution_count": 46
        }
      ]
    },
    {
      "metadata": {
        "_cell_guid": "1cfd417d-058b-47fb-aca2-30d063fd7cb2",
        "_uuid": "25525498552075dc566decd1e486e916a8abbcaa",
        "trusted": true,
        "id": "kMYdu7xCj32C"
      },
      "cell_type": "code",
      "source": [
        "#36 Separar os atributos de entrada X e o atributo alvo de saída y\n",
        "y = df['median_house_value']\n",
        "X = df.drop(['median_house_value'], axis=1)"
      ],
      "execution_count": 48,
      "outputs": []
    },
    {
      "metadata": {
        "trusted": true,
        "id": "0TxCT9nUj32D"
      },
      "cell_type": "code",
      "source": [
        "#37 Dividindo o dataframe em dados de treino (80%) e dados de teste (20%)\n",
        "from sklearn.model_selection import train_test_split\n",
        "X_train, X_test, y_train, y_test = train_test_split(X, y, test_size=0.2)"
      ],
      "execution_count": 49,
      "outputs": []
    },
    {
      "metadata": {
        "_cell_guid": "e901e3ae-b85f-4704-8a8f-13ccf23248a7",
        "_uuid": "90c08488257e0a548c9aedd489c38d98eb721323",
        "trusted": true,
        "id": "NOebIDSUj32D"
      },
      "cell_type": "code",
      "source": [
        "#38 Aplicando o Modelo de Regressão Linear\n",
        "\n",
        "# 1. importar a biblioteca LinearRegression\n",
        "from sklearn.linear_model import LinearRegression\n",
        "# 2. Estanciar o objeto do modelo a ser usado\n",
        "model = LinearRegression()\n",
        "# 3. Ajustar os dados ao modelo (fit)\n",
        "model.fit(X_train, y_train)\n",
        "# 4. Testar o modelo com os dados de teste\n",
        "y_pred = model.predict(X_test)"
      ],
      "execution_count": 50,
      "outputs": []
    },
    {
      "cell_type": "code",
      "source": [
        "#39 Mostrar os coeficientes do ajuste:\n",
        "b = model.intercept_\n",
        "b"
      ],
      "metadata": {
        "colab": {
          "base_uri": "https://localhost:8080/"
        },
        "id": "EmUvgjdflnyF",
        "outputId": "6d34b984-9d25-4d16-ad32-5e5b6319f305"
      },
      "execution_count": 51,
      "outputs": [
        {
          "output_type": "execute_result",
          "data": {
            "text/plain": [
              "1117369.2360751054"
            ]
          },
          "metadata": {},
          "execution_count": 51
        }
      ]
    },
    {
      "cell_type": "code",
      "source": [
        "a = model.coef_\n",
        "a"
      ],
      "metadata": {
        "id": "hXGc1OmXlngV",
        "colab": {
          "base_uri": "https://localhost:8080/"
        },
        "outputId": "57c70dfd-e07a-4031-e283-02f91ad16a06"
      },
      "execution_count": 54,
      "outputs": [
        {
          "output_type": "execute_result",
          "data": {
            "text/plain": [
              "array([-236865.5952676 , -495905.53996958, -856900.56841227,\n",
              "       -753003.9183853 ,  321917.68333297, -473344.74696018,\n",
              "          1173.37653376, -129759.77163261,  132515.7888948 ,\n",
              "         -1656.2233493 ,   -2273.17044664])"
            ]
          },
          "metadata": {},
          "execution_count": 54
        }
      ]
    },
    {
      "metadata": {
        "id": "XdWTt645j32E"
      },
      "cell_type": "markdown",
      "source": [
        "# Medida de Avalição da precisão do problema de regressão.\n",
        "[Metrics and scoring](https://scikit-learn.org/stable/modules/model_evaluation.html)\n",
        "\n",
        "**R^2 (R ao quadrado): ** Também é conhecido como **coeficiente de determinação**. Essa métrica fornece uma indicação de quão bom um modelo se encaixa em um determinado conjunto de dados. Indica a proximidade da linha de regressão (ou seja, os valores previstos plotados) dos valores reais dos dados. O valor do quadrado R fica entre 0 e 1, em que 0 indica que este modelo não se ajusta aos dados fornecidos e 1 indica que o modelo se encaixa perfeitamente no conjunto de dados fornecido."
      ]
    },
    {
      "metadata": {
        "trusted": true,
        "id": "LGmXcDPtj32E"
      },
      "cell_type": "code",
      "source": [
        "# 40. compara a predição com o esperado\n",
        "from sklearn import metrics \n",
        "#from sklearn.metrics import r2_score\n",
        "score = r2_score(y_test, y_pred)\n",
        "print('r2_score:', score)"
      ],
      "execution_count": null,
      "outputs": []
    },
    {
      "cell_type": "markdown",
      "source": [
        "# Cálculo da Acurácia\n",
        "\n",
        "Se normalize == True, retorna a fração de amostras classificadas corretamente (float), senão retorna o número de amostras classificadas corretamente (int). O melhor desempenho é 1 com normalize == True e o número de amostras com normalize == False"
      ],
      "metadata": {
        "id": "AHBoFL-vrTAd"
      }
    },
    {
      "cell_type": "code",
      "source": [
        "# from sklearn.metrics import r2_score\n",
        "print(\"Acurácia - percentual de acerto: \", accuracy_score(y_test, y_pred))\n",
        "print(\"Acurácia - Número de Amostras corretas: \", accuracy_score(y_test, y_pred, normalize=False))\n"
      ],
      "metadata": {
        "id": "_vK32BxOrTwl"
      },
      "execution_count": null,
      "outputs": []
    },
    {
      "metadata": {
        "id": "zu2UqD9Ej32F"
      },
      "cell_type": "markdown",
      "source": [
        "# Medidas de Avalição da precisão do problema de regressão.\n",
        "\n",
        "**MAE (Mean Absolute Error): Erro Médio Absoluto** - Não é muito sensível a valores discrepantes em comparação com o MSE, pois não pune erros enormes. Geralmente é usado quando o desempenho é medido em dados variáveis ​​contínuos. Ele fornece um valor linear, que calcula a média das diferenças individuais ponderadas igualmente. Quanto menor o valor, melhor é o desempenho do modelo.\n",
        "\n",
        "**MSE (Mean Squared Error): Erro Quadrático Médio** - é uma das métricas mais comumente usadas, mas menos útil quando uma única previsão incorreta arruinaria as habilidades de previsão do modelo inteiro, ou seja, quando o conjunto de dados contém muito ruído. É mais útil quando o conjunto de dados contém valores discrepantes ou inesperados (valores muito altos ou muito baixos).\n",
        "\n",
        "**RMSE (Root Mean Squared Error): Raiz do Erro Quadrático Médio** - No RMSE, os erros são elevados ao quadrado antes de serem calculados a média. Isso basicamente implica que o RMSE atribui um peso maior a erros maiores. Isso indica que o RMSE é muito mais útil quando erros grandes estão presentes e afetam drasticamente o desempenho do modelo. Evita tomar o valor absoluto do erro e essa característica é útil em muitos cálculos matemáticos."
      ]
    },
    {
      "metadata": {
        "_cell_guid": "111c3aa0-a1eb-4d81-8142-21526b9d3ee8",
        "_uuid": "bee060572ebbc075b28b07f4021bbade48653477",
        "trusted": true,
        "id": "ZKh2Bu99j32F",
        "colab": {
          "base_uri": "https://localhost:8080/"
        },
        "outputId": "74787a1d-66ea-4ecc-ce8d-98606f0c5bda"
      },
      "cell_type": "code",
      "source": [
        "#41 calculo das métricas MAE MSE RMSE\n",
        "from sklearn import metrics  \n",
        "print('MAE - Mean Absolute Error:',     metrics.mean_absolute_error(y_test, y_pred))  \n",
        "print('MSE - Mean Squared Error:',      metrics.mean_squared_error(y_test, y_pred))  \n",
        "print('RMSE - Root Mean Squared Error:', np.sqrt(metrics.mean_squared_error(y_test, y_pred)))  #mais usado"
      ],
      "execution_count": 57,
      "outputs": [
        {
          "output_type": "stream",
          "name": "stdout",
          "text": [
            "MAE - Mean Absolute Error: 62469.53720394943\n",
            "MSE - Mean Squared Error: 7068624916.594169\n",
            "RMSE - Root Mean Squared Error: 84075.11472840325\n"
          ]
        }
      ]
    }
  ],
  "metadata": {
    "kernelspec": {
      "display_name": "Python 3",
      "language": "python",
      "name": "python3"
    },
    "language_info": {
      "name": "python",
      "version": "3.6.6",
      "mimetype": "text/x-python",
      "codemirror_mode": {
        "name": "ipython",
        "version": 3
      },
      "pygments_lexer": "ipython3",
      "nbconvert_exporter": "python",
      "file_extension": ".py"
    },
    "colab": {
      "provenance": [],
      "collapsed_sections": [],
      "include_colab_link": true
    }
  },
  "nbformat": 4,
  "nbformat_minor": 0
}